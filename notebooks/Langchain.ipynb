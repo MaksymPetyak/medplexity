{
 "cells": [
  {
   "cell_type": "markdown",
   "source": [
    "In this notebook we will work with MedMCQA benchmark and use Langchain agent to use Google search before answering the questions.\n",
    "\n",
    "You will need your OpenAI API key, and also for the Google search we use SerpAPI so you might need a key for it as well. Here is a [link  to SerpAPI](https://serpapi.com/) in case you need one."
   ],
   "metadata": {
    "collapsed": false
   }
  },
  {
   "cell_type": "code",
   "execution_count": 1,
   "outputs": [],
   "source": [
    "import os\n",
    "\n",
    "os.environ[\"OPENAI_API_KEY\"] = \"\"\n",
    "os.environ[\"SERPAPI_API_KEY\"] = \"\""
   ],
   "metadata": {
    "collapsed": false,
    "ExecuteTime": {
     "end_time": "2023-10-12T15:36:49.963612Z",
     "start_time": "2023-10-12T15:36:49.819044Z"
    }
   }
  },
  {
   "cell_type": "markdown",
   "source": [
    "Let's start by using the dataset factory to create the dataset:"
   ],
   "metadata": {
    "collapsed": false
   }
  },
  {
   "cell_type": "code",
   "execution_count": 2,
   "outputs": [],
   "source": [
    "from medplexity.benchmarks.dataset_factory import DatasetFactory\n",
    "\n",
    "from medplexity.benchmarks.medmcqa.medmcqa_dataset_builder import MedMCQADataPoint\n",
    "from medplexity.datasets.dataset import Dataset\n",
    "\n",
    "dataset: Dataset[MedMCQADataPoint] = DatasetFactory().build(\"medmcqa\", \"validation\")"
   ],
   "metadata": {
    "collapsed": false,
    "ExecuteTime": {
     "end_time": "2023-10-12T15:36:52.973261Z",
     "start_time": "2023-10-12T15:36:49.823963Z"
    }
   }
  },
  {
   "cell_type": "code",
   "execution_count": 3,
   "outputs": [
    {
     "data": {
      "text/plain": "MultipleChoiceInput(question='Which of the following is not true for myelinated nerve fibers:', options=['Impulse through myelinated fibers is slower than non-myelinated fibers', 'Membrane currents are generated at nodes of Ranvier', 'Saltatory conduction of impulses is seen', 'Local anesthesia is effective only when the nerve is not covered by myelin sheath'], context=None, examples=None)"
     },
     "execution_count": 3,
     "metadata": {},
     "output_type": "execute_result"
    }
   ],
   "source": [
    "example_data_point = dataset[0]\n",
    "example_data_point.input"
   ],
   "metadata": {
    "collapsed": false,
    "ExecuteTime": {
     "end_time": "2023-10-12T15:36:52.977361Z",
     "start_time": "2023-10-12T15:36:52.974571Z"
    }
   }
  },
  {
   "cell_type": "markdown",
   "source": [
    "We will also use the existing medplexity prompt for multiple-choice questions:"
   ],
   "metadata": {
    "collapsed": false
   }
  },
  {
   "cell_type": "code",
   "execution_count": 4,
   "outputs": [
    {
     "name": "stdout",
     "output_type": "stream",
     "text": [
      "Instructions: The following are multiple choice questions about medical knowledge. Solve them in a step-by-step fashion,\n",
      "starting by summarizing the available information. Output a single option from the given options as the final answer.\n",
      "Use the following format for your answer:\n",
      "Explanation: Reasoning for your answer\n",
      "Answer: (A) | (B) | (C), etc. Give only the option and nothing else.\n",
      "\n",
      "\n",
      "Question: Which of the following is not true for myelinated nerve fibers:\n",
      "(A) Impulse through myelinated fibers is slower than non-myelinated fibers (B) Membrane currents are generated at nodes of Ranvier (C) Saltatory conduction of impulses is seen (D) Local anesthesia is effective only when the nerve is not covered by myelin sheath\n",
      "\n"
     ]
    }
   ],
   "source": [
    "from medplexity.prompts.multiple_choice_prompt import MultipleChoiceChainOfThoughtPrompt\n",
    "\n",
    "prompt = MultipleChoiceChainOfThoughtPrompt()\n",
    "\n",
    "print(prompt.format(\n",
    "    question=example_data_point.input.question,\n",
    "    options=example_data_point.input.options\n",
    "))"
   ],
   "metadata": {
    "collapsed": false,
    "ExecuteTime": {
     "end_time": "2023-10-12T15:36:52.982864Z",
     "start_time": "2023-10-12T15:36:52.978018Z"
    }
   }
  },
  {
   "cell_type": "markdown",
   "source": [
    "## Prediction with Langchain"
   ],
   "metadata": {
    "collapsed": false
   }
  },
  {
   "cell_type": "markdown",
   "source": [
    "Now let's define the chain that we want to use with langchain. Here I use their agent with OpenAI functions, and define a tool to use Google Search"
   ],
   "metadata": {
    "collapsed": false
   }
  },
  {
   "cell_type": "code",
   "execution_count": 5,
   "outputs": [],
   "source": [
    "from langchain.agents import initialize_agent, AgentType, Tool\n",
    "from langchain.chat_models import ChatOpenAI\n",
    "from langchain.utilities import SerpAPIWrapper"
   ],
   "metadata": {
    "collapsed": false,
    "ExecuteTime": {
     "end_time": "2023-10-12T15:36:53.818482Z",
     "start_time": "2023-10-12T15:36:52.983551Z"
    }
   }
  },
  {
   "cell_type": "code",
   "execution_count": 6,
   "outputs": [],
   "source": [
    "llm = ChatOpenAI(temperature=0, model=\"gpt-4\")\n",
    "search = SerpAPIWrapper()"
   ],
   "metadata": {
    "collapsed": false,
    "ExecuteTime": {
     "end_time": "2023-10-12T15:36:53.832490Z",
     "start_time": "2023-10-12T15:36:53.818812Z"
    }
   }
  },
  {
   "cell_type": "code",
   "execution_count": 7,
   "outputs": [],
   "source": [
    "tools = [\n",
    "    # Search tool\n",
    "    Tool(\n",
    "        name=\"search\",\n",
    "        func=search.run,\n",
    "        description=\"Use this before answering the question to get additional medical information. Ask targeted questions.\"\n",
    "    ),\n",
    "]"
   ],
   "metadata": {
    "collapsed": false,
    "ExecuteTime": {
     "end_time": "2023-10-12T15:36:53.835202Z",
     "start_time": "2023-10-12T15:36:53.834637Z"
    }
   }
  },
  {
   "cell_type": "code",
   "execution_count": 8,
   "outputs": [],
   "source": [
    "agent_executor = initialize_agent(\n",
    "    tools,\n",
    "    llm,\n",
    "    agent=AgentType.OPENAI_FUNCTIONS,\n",
    "    return_intermediate_steps=True,\n",
    "    verbose=True,\n",
    ")"
   ],
   "metadata": {
    "collapsed": false,
    "ExecuteTime": {
     "end_time": "2023-10-12T15:36:53.838326Z",
     "start_time": "2023-10-12T15:36:53.836606Z"
    }
   }
  },
  {
   "cell_type": "markdown",
   "source": [
    "The tricky part is around matching the inputs/outputs to the right format. For now, medplexity supports callbacks that are meant to act as adapters between expected inputs and outputs."
   ],
   "metadata": {
    "collapsed": false
   }
  },
  {
   "cell_type": "code",
   "execution_count": 9,
   "outputs": [],
   "source": [
    "from medplexity.benchmarks.multiple_choice_utils import MultipleChoiceInput\n",
    "from medplexity.chains.chain import ChainOutput\n",
    "\n",
    "def input_adapter(input: MultipleChoiceInput) -> str:\n",
    "    \"\"\"Converts the multiple choice instance into prompt that the agent can call.\"\"\"\n",
    "\n",
    "    return prompt.format(\n",
    "        question=input.question,\n",
    "        options=input.options,\n",
    "    )\n",
    "\n",
    "def chain_output_adapter(chain_output: ChainOutput) -> ChainOutput:\n",
    "    \"\"\"Converts the output from agent into the chain output for comparison\"\"\"\n",
    "    parsed_output = MultipleChoiceChainOfThoughtPrompt.extract_explanation_and_answer(chain_output.output)\n",
    "\n",
    "    output_metadata = chain_output.output_metadata\n",
    "    output_metadata[\"explanation\"] = parsed_output.explanation\n",
    "\n",
    "    return ChainOutput(\n",
    "        output=parsed_output.answer,\n",
    "        output_metadata=output_metadata,\n",
    "    )"
   ],
   "metadata": {
    "collapsed": false,
    "ExecuteTime": {
     "end_time": "2023-10-12T15:36:53.851344Z",
     "start_time": "2023-10-12T15:36:53.840303Z"
    }
   }
  },
  {
   "cell_type": "markdown",
   "source": [
    "To adapt inputs/output medplexity gives you the EvaluationAdapterChain, and for langchain specifically, there is a LangchainWrapper that will use a format more consistent to the ones used in medplexity."
   ],
   "metadata": {
    "collapsed": false
   }
  },
  {
   "cell_type": "code",
   "execution_count": 10,
   "outputs": [],
   "source": [
    "from medplexity.chains.evaluation_adapter_chain import EvaluationAdapterChain\n",
    "from medplexity.chains.langchain_wrapper import LangchainWrapper\n",
    "\n",
    "# Evaluation adapter gives you ability to provide adapter to map inputs/outputs to the format consistent with your chain\n",
    "chain = EvaluationAdapterChain(\n",
    "    # You can use LangchainWrapper to convert the Langchain chain format to the one more appropriate for medplexity\n",
    "    chain=LangchainWrapper(agent_executor, store_intermediate_steps=True),\n",
    "    input_adapter=input_adapter,\n",
    "    output_adapter=chain_output_adapter,\n",
    ")"
   ],
   "metadata": {
    "collapsed": false,
    "ExecuteTime": {
     "end_time": "2023-10-12T15:36:53.851701Z",
     "start_time": "2023-10-12T15:36:53.844433Z"
    }
   }
  },
  {
   "cell_type": "code",
   "execution_count": 11,
   "outputs": [],
   "source": [
    "from medplexity.medharness import Medharness\n",
    "\n",
    "medharness = Medharness(\n",
    "    dataset=dataset,\n",
    "    chain=chain,\n",
    ")"
   ],
   "metadata": {
    "collapsed": false,
    "ExecuteTime": {
     "end_time": "2023-10-12T15:36:53.857204Z",
     "start_time": "2023-10-12T15:36:53.848378Z"
    }
   }
  },
  {
   "cell_type": "markdown",
   "source": [
    "Now we can evaluate on a single example and see the results, and the searching that was used (not that it was very helpful in this case)"
   ],
   "metadata": {
    "collapsed": false
   }
  },
  {
   "cell_type": "code",
   "execution_count": 12,
   "outputs": [
    {
     "name": "stderr",
     "output_type": "stream",
     "text": [
      "  0%|          | 0/1 [00:00<?, ?it/s]"
     ]
    },
    {
     "name": "stdout",
     "output_type": "stream",
     "text": [
      "\n",
      "\n",
      "\u001B[1m> Entering new AgentExecutor chain...\u001B[0m\n",
      "\u001B[32;1m\u001B[1;3m\n",
      "Invoking: `search` with `myelinated nerve fibers`\n",
      "\n",
      "\n",
      "\u001B[0m\u001B[36;1m\u001B[1;3mThe myelinated nerve fiber is designed by evolution to provide the body with a rapid and efficient transfer of information from peripheral receptors to the central nervous system (CNS), from the CNS to peripheral effectors, and between different centers within the CNS.\u001B[0m"
     ]
    },
    {
     "name": "stderr",
     "output_type": "stream",
     "text": [
      "100%|██████████| 1/1 [00:33<00:00, 33.87s/it]"
     ]
    },
    {
     "name": "stdout",
     "output_type": "stream",
     "text": [
      "\u001B[32;1m\u001B[1;3mThe available information tells us that myelinated nerve fibers are designed to provide rapid and efficient transfer of information within the body. \n",
      "\n",
      "Let's analyze the options:\n",
      "\n",
      "(A) Impulse through myelinated fibers is slower than non-myelinated fibers: This is not true. Myelinated fibers conduct impulses faster than non-myelinated fibers due to the insulating properties of the myelin sheath.\n",
      "\n",
      "(B) Membrane currents are generated at nodes of Ranvier: This is true. The nodes of Ranvier are small gaps in the myelin sheath where the axon is exposed. These nodes allow for the rapid conduction of nerve impulses along the axon.\n",
      "\n",
      "(C) Saltatory conduction of impulses is seen: This is true. Saltatory conduction is a type of nerve impulse conduction that occurs in myelinated axons, where the impulse jumps from one node of Ranvier to the next.\n",
      "\n",
      "(D) Local anesthesia is effective only when the nerve is not covered by myelin sheath: This is not necessarily true. Local anesthesia works by blocking nerve conduction, and it can do this whether the nerve is myelinated or not.\n",
      "\n",
      "Explanation: Based on the information about myelinated nerve fibers, the statement that impulse through myelinated fibers is slower than non-myelinated fibers is not true. Myelinated fibers are designed for rapid and efficient transfer of information, which means they conduct impulses faster than non-myelinated fibers.\n",
      "\n",
      "Answer: (A)\u001B[0m\n",
      "\n",
      "\u001B[1m> Finished chain.\u001B[0m\n"
     ]
    },
    {
     "name": "stderr",
     "output_type": "stream",
     "text": [
      "\n"
     ]
    }
   ],
   "source": [
    "evaluation = medharness.run(k=1)"
   ],
   "metadata": {
    "collapsed": false,
    "ExecuteTime": {
     "end_time": "2023-10-12T15:37:27.755295Z",
     "start_time": "2023-10-12T15:36:53.854930Z"
    }
   }
  },
  {
   "cell_type": "code",
   "execution_count": 13,
   "outputs": [],
   "source": [
    "example_output = evaluation.evaluation_results[0]"
   ],
   "metadata": {
    "collapsed": false,
    "ExecuteTime": {
     "end_time": "2023-10-12T15:37:27.755644Z",
     "start_time": "2023-10-12T15:37:27.755037Z"
    }
   }
  },
  {
   "cell_type": "code",
   "execution_count": 14,
   "outputs": [
    {
     "name": "stdout",
     "output_type": "stream",
     "text": [
      "(A)\n",
      "{<LangChainOutputDictKeys.intermediate_steps: 'intermediate_steps'>: [(AgentActionMessageLog(tool='search', tool_input='myelinated nerve fibers', log='\\nInvoking: `search` with `myelinated nerve fibers`\\n\\n\\n', message_log=[AIMessage(content='', additional_kwargs={'function_call': {'name': 'search', 'arguments': '{\\n  \"__arg1\": \"myelinated nerve fibers\"\\n}'}})]), 'The myelinated nerve fiber is designed by evolution to provide the body with a rapid and efficient transfer of information from peripheral receptors to the central nervous system (CNS), from the CNS to peripheral effectors, and between different centers within the CNS.')], 'explanation': 'Based on the information about myelinated nerve fibers, the statement that impulse through myelinated fibers is slower than non-myelinated fibers is not true. Myelinated fibers are designed for rapid and efficient transfer of information, which means they conduct impulses faster than non-myelinated fibers.'}\n"
     ]
    }
   ],
   "source": [
    "print(example_output.output)\n",
    "print(example_output.output_metadata)"
   ],
   "metadata": {
    "collapsed": false,
    "ExecuteTime": {
     "end_time": "2023-10-12T15:37:27.755769Z",
     "start_time": "2023-10-12T15:37:27.755472Z"
    }
   }
  }
 ],
 "metadata": {
  "kernelspec": {
   "display_name": "Python 3",
   "language": "python",
   "name": "python3"
  },
  "language_info": {
   "codemirror_mode": {
    "name": "ipython",
    "version": 2
   },
   "file_extension": ".py",
   "mimetype": "text/x-python",
   "name": "python",
   "nbconvert_exporter": "python",
   "pygments_lexer": "ipython2",
   "version": "2.7.6"
  }
 },
 "nbformat": 4,
 "nbformat_minor": 0
}
