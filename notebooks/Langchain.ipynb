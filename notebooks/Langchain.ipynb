{
 "cells": [
  {
   "cell_type": "code",
   "execution_count": 12,
   "outputs": [
    {
     "name": "stdout",
     "output_type": "stream",
     "text": [
      "The autoreload extension is already loaded. To reload it, use:\n",
      "  %reload_ext autoreload\n"
     ]
    }
   ],
   "source": [
    "%load_ext autoreload\n",
    "%autoreload 2"
   ],
   "metadata": {
    "collapsed": false,
    "ExecuteTime": {
     "end_time": "2023-10-03T18:55:22.609065Z",
     "start_time": "2023-10-03T18:55:22.561876Z"
    }
   }
  },
  {
   "cell_type": "code",
   "execution_count": 13,
   "metadata": {
    "collapsed": true,
    "ExecuteTime": {
     "end_time": "2023-10-03T18:55:22.609642Z",
     "start_time": "2023-10-03T18:55:22.581219Z"
    }
   },
   "outputs": [],
   "source": [
    "from medplexity.benchmarks.medqa.medqa_dataset_builder import MedQADatasetBuilder"
   ]
  },
  {
   "cell_type": "code",
   "execution_count": 14,
   "outputs": [],
   "source": [
    "import os\n",
    "\n",
    "os.environ[\"OPENAI_API_KEY\"] = \"\""
   ],
   "metadata": {
    "collapsed": false,
    "ExecuteTime": {
     "end_time": "2023-10-03T18:55:22.612583Z",
     "start_time": "2023-10-03T18:55:22.596984Z"
    }
   }
  },
  {
   "cell_type": "code",
   "execution_count": 15,
   "outputs": [],
   "source": [
    "dataset = MedQADatasetBuilder().build_dataset()"
   ],
   "metadata": {
    "collapsed": false,
    "ExecuteTime": {
     "end_time": "2023-10-03T18:55:24.901267Z",
     "start_time": "2023-10-03T18:55:22.611213Z"
    }
   }
  },
  {
   "cell_type": "code",
   "execution_count": 16,
   "outputs": [
    {
     "data": {
      "text/plain": "MedQADataPoint(input=MedQAInput(question='A 62-year-old woman presents for a regular check-up. She complains of lightheadedness and palpitations which occur episodically. Past medical history is significant for a myocardial infarction 6 months ago and NYHA class II chronic heart failure. She also was diagnosed with grade I arterial hypertension 4 years ago. Current medications are aspirin 81 mg, atorvastatin 10 mg, enalapril 10 mg, and metoprolol 200 mg daily. Her vital signs are a blood pressure of 135/90 mm Hg, a heart rate of 125/min, a respiratory rate of 14/min, and a temperature of 36.5°C (97.7°F). Cardiopulmonary examination is significant for irregular heart rhythm and decreased S1 intensity. ECG is obtained and is shown in the picture (see image). Echocardiography shows a left ventricular ejection fraction of 39%. Which of the following drugs is the best choice for rate control in this patient?', options=['Atenolol', 'Verapamil', 'Diltiazem', 'Propafenone', 'Digoxin']), expected_output='(E)', metadata=None)"
     },
     "execution_count": 16,
     "metadata": {},
     "output_type": "execute_result"
    }
   ],
   "source": [
    "dataset.data_points[8]"
   ],
   "metadata": {
    "collapsed": false,
    "ExecuteTime": {
     "end_time": "2023-10-03T18:55:24.917659Z",
     "start_time": "2023-10-03T18:55:24.902102Z"
    }
   }
  },
  {
   "cell_type": "code",
   "execution_count": 17,
   "outputs": [],
   "source": [
    "from medplexity.benchmarks.medqa.medqa_prompt_template import MedQAPromptTemplate\n",
    "from medplexity.benchmarks.medqa.medqa_dataset_builder import MedQAInput\n",
    "\n",
    "\n",
    "def input_adapter(medqa_input: MedQAInput):\n",
    "    prompt_template = MedQAPromptTemplate()\n",
    "\n",
    "    return prompt_template.format(\n",
    "        question=medqa_input.question,\n",
    "        options=medqa_input.options\n",
    "    )"
   ],
   "metadata": {
    "collapsed": false,
    "ExecuteTime": {
     "end_time": "2023-10-03T18:55:24.943566Z",
     "start_time": "2023-10-03T18:55:24.917142Z"
    }
   }
  },
  {
   "cell_type": "code",
   "execution_count": 18,
   "outputs": [],
   "source": [
    "from medplexity.benchmarks.multiple_choice_utils import AnswerWithExplanation\n",
    "\n",
    "\n",
    "def output_adapter(output_json: str) -> AnswerWithExplanation:\n",
    "    parsed_output = AnswerWithExplanation.model_validate_json(output_json)\n",
    "\n",
    "    return parsed_output"
   ],
   "metadata": {
    "collapsed": false,
    "ExecuteTime": {
     "end_time": "2023-10-03T18:55:24.950904Z",
     "start_time": "2023-10-03T18:55:24.931078Z"
    }
   }
  },
  {
   "cell_type": "code",
   "execution_count": 19,
   "outputs": [],
   "source": [
    "from medplexity.llms.openai_caller import OpenAI\n",
    "from medplexity.chains.evaluation_adapter_chain import EvaluationAdapterChain\n",
    "\n",
    "chain = EvaluationAdapterChain(\n",
    "    llm=OpenAI(),\n",
    "    input_adapter=input_adapter,\n",
    "    output_adapter=output_adapter,\n",
    ")\n"
   ],
   "metadata": {
    "collapsed": false,
    "ExecuteTime": {
     "end_time": "2023-10-03T18:55:24.958874Z",
     "start_time": "2023-10-03T18:55:24.945439Z"
    }
   }
  },
  {
   "cell_type": "code",
   "execution_count": 20,
   "outputs": [],
   "source": [
    "def comparator(expected_output: str, predicted_output: AnswerWithExplanation):\n",
    "\n",
    "    return expected_output == predicted_output.answer"
   ],
   "metadata": {
    "collapsed": false,
    "ExecuteTime": {
     "end_time": "2023-10-03T18:55:24.976160Z",
     "start_time": "2023-10-03T18:55:24.959058Z"
    }
   }
  },
  {
   "cell_type": "code",
   "execution_count": 21,
   "outputs": [],
   "source": [
    "from medplexity.evaluators.sequential_evaluator import SequentialEvaluator\n",
    "\n",
    "evaluator = SequentialEvaluator(\n",
    "    chain=chain,\n",
    "    comparator=comparator\n",
    ")\n"
   ],
   "metadata": {
    "collapsed": false,
    "ExecuteTime": {
     "end_time": "2023-10-03T18:55:24.984892Z",
     "start_time": "2023-10-03T18:55:24.971586Z"
    }
   }
  },
  {
   "cell_type": "code",
   "execution_count": 22,
   "outputs": [
    {
     "name": "stderr",
     "output_type": "stream",
     "text": [
      "100%|██████████| 1/1 [00:03<00:00,  3.38s/it]"
     ]
    },
    {
     "name": "stdout",
     "output_type": "stream",
     "text": [
      "chain_output: answer='(E)' explanation='Let’s solve this step-by-step, referring to authoritative sources as needed. The patient is pregnant and has symptoms of a urinary tract infection (burning upon urination). Nitrofurantoin is considered safe for use in pregnancy and is the best treatment option for this patient.'\n",
      "type of chain_output: <class 'benchmarks.multiple_choice_utils.AnswerWithExplanation'>\n",
      "chain_output after update answer='(E)' explanation='Let’s solve this step-by-step, referring to authoritative sources as needed. The patient is pregnant and has symptoms of a urinary tract infection (burning upon urination). Nitrofurantoin is considered safe for use in pregnancy and is the best treatment option for this patient.'\n"
     ]
    },
    {
     "name": "stderr",
     "output_type": "stream",
     "text": [
      "\n"
     ]
    }
   ],
   "source": [
    "evaluation = evaluator.evaluate(dataset[0:1])"
   ],
   "metadata": {
    "collapsed": false,
    "ExecuteTime": {
     "end_time": "2023-10-03T18:55:28.375332Z",
     "start_time": "2023-10-03T18:55:24.985255Z"
    }
   }
  },
  {
   "cell_type": "code",
   "execution_count": 23,
   "outputs": [
    {
     "name": "stdout",
     "output_type": "stream",
     "text": [
      "{\n",
      "    \"input\": {\n",
      "        \"question\": \"A 23-year-old pregnant woman at 22 weeks gestation presents with burning upon urination. She states it started 1 day ago and has been worsening despite drinking more water and taking cranberry extract. She otherwise feels well and is followed by a doctor for her pregnancy. Her temperature is 97.7°F (36.5°C), blood pressure is 122/77 mmHg, pulse is 80/min, respirations are 19/min, and oxygen saturation is 98% on room air. Physical exam is notable for an absence of costovertebral angle tenderness and a gravid uterus. Which of the following is the best treatment for this patient?\",\n",
      "        \"options\": [\n",
      "            \"Ampicillin\",\n",
      "            \"Ceftriaxone\",\n",
      "            \"Ciprofloxacin\",\n",
      "            \"Doxycycline\",\n",
      "            \"Nitrofurantoin\"\n",
      "        ]\n",
      "    },\n",
      "    \"input_metadata\": null,\n",
      "    \"expected_output\": \"(E)\",\n",
      "    \"output\": {\n",
      "        \"answer\": \"(E)\",\n",
      "        \"explanation\": \"Let’s solve this step-by-step, referring to authoritative sources as needed. The patient is pregnant and has symptoms of a urinary tract infection (burning upon urination). Nitrofurantoin is considered safe for use in pregnancy and is the best treatment option for this patient.\"\n",
      "    },\n",
      "    \"output_metadata\": null,\n",
      "    \"correct\": true\n",
      "}\n"
     ]
    }
   ],
   "source": [
    "print(evaluation.evaluation_results[0].model_dump_json(indent=4))"
   ],
   "metadata": {
    "collapsed": false,
    "ExecuteTime": {
     "end_time": "2023-10-03T18:55:28.423471Z",
     "start_time": "2023-10-03T18:55:28.375588Z"
    }
   }
  },
  {
   "cell_type": "markdown",
   "source": [
    "## Prediction with Langchain"
   ],
   "metadata": {
    "collapsed": false
   }
  },
  {
   "cell_type": "code",
   "execution_count": 24,
   "outputs": [],
   "source": [
    "from langchain.agents import initialize_agent, AgentType, Tool\n",
    "from langchain.chat_models import ChatOpenAI\n",
    "from langchain.utilities import SerpAPIWrapper"
   ],
   "metadata": {
    "collapsed": false,
    "ExecuteTime": {
     "end_time": "2023-10-03T18:55:29.275926Z",
     "start_time": "2023-10-03T18:55:28.395160Z"
    }
   }
  },
  {
   "cell_type": "code",
   "execution_count": 25,
   "outputs": [],
   "source": [
    "os.environ['SERPAPI_API_KEY'] = ''"
   ],
   "metadata": {
    "collapsed": false,
    "ExecuteTime": {
     "end_time": "2023-10-03T18:55:29.295495Z",
     "start_time": "2023-10-03T18:55:29.274966Z"
    }
   }
  },
  {
   "cell_type": "code",
   "execution_count": 26,
   "outputs": [],
   "source": [
    "llm = ChatOpenAI(temperature=0, model=\"gpt-4\")\n",
    "search = SerpAPIWrapper()"
   ],
   "metadata": {
    "collapsed": false,
    "ExecuteTime": {
     "end_time": "2023-10-03T18:55:29.309920Z",
     "start_time": "2023-10-03T18:55:29.295716Z"
    }
   }
  },
  {
   "cell_type": "code",
   "execution_count": 27,
   "outputs": [],
   "source": [
    "tools = [\n",
    "    Tool(\n",
    "        name=\"search\",\n",
    "        func=search.run,\n",
    "        description=\"Get additional medical information. You should ask targeted questions.\"\n",
    "    ),\n",
    "]"
   ],
   "metadata": {
    "collapsed": false,
    "ExecuteTime": {
     "end_time": "2023-10-03T18:55:29.328027Z",
     "start_time": "2023-10-03T18:55:29.310291Z"
    }
   }
  },
  {
   "cell_type": "code",
   "execution_count": 28,
   "outputs": [],
   "source": [
    "agent_executor = initialize_agent(\n",
    "    tools,\n",
    "    llm,\n",
    "    agent=AgentType.OPENAI_FUNCTIONS,\n",
    "    return_intermediate_steps=True,\n",
    "    verbose=True,\n",
    ")"
   ],
   "metadata": {
    "collapsed": false,
    "ExecuteTime": {
     "end_time": "2023-10-03T18:55:29.347619Z",
     "start_time": "2023-10-03T18:55:29.328310Z"
    }
   }
  },
  {
   "cell_type": "code",
   "execution_count": 29,
   "outputs": [],
   "source": [
    "from medplexity.chains.chain import ChainOutput\n",
    "\n",
    "def chain_output_adapter(chain_output: ChainOutput) -> ChainOutput:\n",
    "    parsed_output = AnswerWithExplanation.model_validate_json(chain_output.output)\n",
    "\n",
    "    return ChainOutput(\n",
    "        output=parsed_output,\n",
    "        output_metadata=chain_output.output_metadata,\n",
    "    )"
   ],
   "metadata": {
    "collapsed": false,
    "ExecuteTime": {
     "end_time": "2023-10-03T18:55:29.366156Z",
     "start_time": "2023-10-03T18:55:29.347811Z"
    }
   }
  },
  {
   "cell_type": "code",
   "execution_count": 34,
   "outputs": [],
   "source": [
    "def comparator(expected_output: str, predicted_output: AnswerWithExplanation):\n",
    "    return expected_output == predicted_output.answer"
   ],
   "metadata": {
    "collapsed": false,
    "ExecuteTime": {
     "end_time": "2023-10-03T18:56:04.009726Z",
     "start_time": "2023-10-03T18:56:03.979134Z"
    }
   }
  },
  {
   "cell_type": "code",
   "execution_count": 35,
   "outputs": [],
   "source": [
    "from medplexity.chains.langchain_wrapper import LangchainWrapper\n",
    "\n",
    "chain = EvaluationAdapterChain(\n",
    "    chain=LangchainWrapper(agent_executor, store_intermediate_steps=True),\n",
    "    input_adapter=input_adapter,\n",
    "    output_adapter=chain_output_adapter,\n",
    ")"
   ],
   "metadata": {
    "collapsed": false,
    "ExecuteTime": {
     "end_time": "2023-10-03T18:56:04.251617Z",
     "start_time": "2023-10-03T18:56:04.225116Z"
    }
   }
  },
  {
   "cell_type": "code",
   "execution_count": 36,
   "outputs": [],
   "source": [
    "evaluator = SequentialEvaluator(\n",
    "    chain=chain,\n",
    "    comparator=comparator\n",
    ")"
   ],
   "metadata": {
    "collapsed": false,
    "ExecuteTime": {
     "end_time": "2023-10-03T18:56:04.479057Z",
     "start_time": "2023-10-03T18:56:04.456462Z"
    }
   }
  },
  {
   "cell_type": "code",
   "execution_count": 37,
   "outputs": [
    {
     "name": "stderr",
     "output_type": "stream",
     "text": [
      "  0%|          | 0/1 [00:00<?, ?it/s]"
     ]
    },
    {
     "name": "stdout",
     "output_type": "stream",
     "text": [
      "\n",
      "\n",
      "\u001B[1m> Entering new AgentExecutor chain...\u001B[0m\n",
      "\u001B[32;1m\u001B[1;3m\n",
      "Invoking: `search` with `best treatment for urinary tract infection in pregnant women`\n",
      "\n",
      "\n",
      "\u001B[0m\u001B[36;1m\u001B[1;3m[4] Antibiotics commonly used include amoxicillin, ampicillin, cephalosporins, nitrofurantoin, and trimethoprim-sulfamethoxazole. Fluoroquinolones are not recommended as a first-line treatment in pregnancy due to conflicting studies regarding teratogenicity.\u001B[0m"
     ]
    },
    {
     "name": "stderr",
     "output_type": "stream",
     "text": [
      "100%|██████████| 1/1 [00:10<00:00, 10.46s/it]"
     ]
    },
    {
     "name": "stdout",
     "output_type": "stream",
     "text": [
      "\u001B[32;1m\u001B[1;3m{\"answer\":\"(E)\",\"explanation\":\"Let’s solve this step-by-step, referring to authoritative sources as needed. The patient's symptoms suggest a urinary tract infection. Among the options, Nitrofurantoin is commonly used to treat urinary tract infections in pregnant women. Fluoroquinolones like Ciprofloxacin are not recommended as a first-line treatment in pregnancy due to conflicting studies regarding teratogenicity.\"}\u001B[0m\n",
      "\n",
      "\u001B[1m> Finished chain.\u001B[0m\n",
      "chain_output: output=AnswerWithExplanation(answer='(E)', explanation=\"Let’s solve this step-by-step, referring to authoritative sources as needed. The patient's symptoms suggest a urinary tract infection. Among the options, Nitrofurantoin is commonly used to treat urinary tract infections in pregnant women. Fluoroquinolones like Ciprofloxacin are not recommended as a first-line treatment in pregnancy due to conflicting studies regarding teratogenicity.\") output_metadata={<LangChainOutputDictKeys.intermediate_steps: 'intermediate_steps'>: [(AgentActionMessageLog(tool='search', tool_input='best treatment for urinary tract infection in pregnant women', log='\\nInvoking: `search` with `best treatment for urinary tract infection in pregnant women`\\n\\n\\n', message_log=[AIMessage(content='', additional_kwargs={'function_call': {'name': 'search', 'arguments': '{\\n  \"__arg1\": \"best treatment for urinary tract infection in pregnant women\"\\n}'}})]), '[4] Antibiotics commonly used include amoxicillin, ampicillin, cephalosporins, nitrofurantoin, and trimethoprim-sulfamethoxazole. Fluoroquinolones are not recommended as a first-line treatment in pregnancy due to conflicting studies regarding teratogenicity.')]}\n",
      "type of chain_output: <class 'medplexity.chains.chain.ChainOutput'>\n",
      "updating output_metadata\n",
      "chain_output after update answer='(E)' explanation=\"Let’s solve this step-by-step, referring to authoritative sources as needed. The patient's symptoms suggest a urinary tract infection. Among the options, Nitrofurantoin is commonly used to treat urinary tract infections in pregnant women. Fluoroquinolones like Ciprofloxacin are not recommended as a first-line treatment in pregnancy due to conflicting studies regarding teratogenicity.\"\n"
     ]
    },
    {
     "name": "stderr",
     "output_type": "stream",
     "text": [
      "\n"
     ]
    }
   ],
   "source": [
    "# Try one item for evaluation\n",
    "evaluation = evaluator.evaluate(dataset[:1])"
   ],
   "metadata": {
    "collapsed": false,
    "ExecuteTime": {
     "end_time": "2023-10-03T18:56:15.280457Z",
     "start_time": "2023-10-03T18:56:04.790370Z"
    }
   }
  },
  {
   "cell_type": "code",
   "execution_count": 38,
   "outputs": [],
   "source": [
    "example_output = evaluation.evaluation_results"
   ],
   "metadata": {
    "collapsed": false,
    "ExecuteTime": {
     "end_time": "2023-10-03T18:56:29.508823Z",
     "start_time": "2023-10-03T18:56:29.476877Z"
    }
   }
  },
  {
   "cell_type": "code",
   "execution_count": 43,
   "outputs": [
    {
     "name": "stdout",
     "output_type": "stream",
     "text": [
      "answer='(E)' explanation=\"Let’s solve this step-by-step, referring to authoritative sources as needed. The patient's symptoms suggest a urinary tract infection. Among the options, Nitrofurantoin is commonly used to treat urinary tract infections in pregnant women. Fluoroquinolones like Ciprofloxacin are not recommended as a first-line treatment in pregnancy due to conflicting studies regarding teratogenicity.\"\n",
      "{<LangChainOutputDictKeys.intermediate_steps: 'intermediate_steps'>: [(AgentActionMessageLog(tool='search', tool_input='best treatment for urinary tract infection in pregnant women', log='\\nInvoking: `search` with `best treatment for urinary tract infection in pregnant women`\\n\\n\\n', message_log=[AIMessage(content='', additional_kwargs={'function_call': {'name': 'search', 'arguments': '{\\n  \"__arg1\": \"best treatment for urinary tract infection in pregnant women\"\\n}'}})]), '[4] Antibiotics commonly used include amoxicillin, ampicillin, cephalosporins, nitrofurantoin, and trimethoprim-sulfamethoxazole. Fluoroquinolones are not recommended as a first-line treatment in pregnancy due to conflicting studies regarding teratogenicity.')]}\n"
     ]
    }
   ],
   "source": [
    "print(evaluation.evaluation_results[0].output)\n",
    "print(evaluation.evaluation_results[0].output_metadata)"
   ],
   "metadata": {
    "collapsed": false,
    "ExecuteTime": {
     "end_time": "2023-10-03T18:57:18.874814Z",
     "start_time": "2023-10-03T18:57:18.843206Z"
    }
   }
  },
  {
   "cell_type": "code",
   "execution_count": null,
   "outputs": [],
   "source": [],
   "metadata": {
    "collapsed": false
   }
  }
 ],
 "metadata": {
  "kernelspec": {
   "display_name": "Python 3",
   "language": "python",
   "name": "python3"
  },
  "language_info": {
   "codemirror_mode": {
    "name": "ipython",
    "version": 2
   },
   "file_extension": ".py",
   "mimetype": "text/x-python",
   "name": "python",
   "nbconvert_exporter": "python",
   "pygments_lexer": "ipython2",
   "version": "2.7.6"
  }
 },
 "nbformat": 4,
 "nbformat_minor": 0
}
