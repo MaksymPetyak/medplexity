{
 "cells": [
  {
   "cell_type": "markdown",
   "source": [
    "In this notebook we are using OpenAI GPT-4 for evaluation on MedQA dataset"
   ],
   "metadata": {
    "collapsed": false
   }
  },
  {
   "cell_type": "code",
   "execution_count": 1,
   "metadata": {
    "collapsed": true,
    "ExecuteTime": {
     "end_time": "2023-09-25T11:47:55.814534Z",
     "start_time": "2023-09-25T11:47:55.801412Z"
    }
   },
   "outputs": [],
   "source": [
    "%load_ext autoreload\n",
    "%autoreload 2"
   ]
  },
  {
   "cell_type": "code",
   "execution_count": 2,
   "outputs": [],
   "source": [
    "OPENAI_API_KEY = \"\""
   ],
   "metadata": {
    "collapsed": false,
    "ExecuteTime": {
     "end_time": "2023-09-25T11:47:55.821891Z",
     "start_time": "2023-09-25T11:47:55.813549Z"
    }
   }
  },
  {
   "cell_type": "code",
   "execution_count": 3,
   "outputs": [],
   "source": [
    "from benchmarks.medqa.medqa_dataset_builder import MedQADatasetBuilder\n",
    "\n",
    "dataset = MedQADatasetBuilder().build_dataset(split_type=\"validation\")"
   ],
   "metadata": {
    "collapsed": false,
    "ExecuteTime": {
     "end_time": "2023-09-25T11:47:58.250184Z",
     "start_time": "2023-09-25T11:47:55.822179Z"
    }
   }
  },
  {
   "cell_type": "code",
   "execution_count": 4,
   "outputs": [],
   "source": [
    "example_data_point = next(dataset.__iter__())"
   ],
   "metadata": {
    "collapsed": false,
    "ExecuteTime": {
     "end_time": "2023-09-25T11:47:58.283477Z",
     "start_time": "2023-09-25T11:47:58.246266Z"
    }
   }
  },
  {
   "cell_type": "code",
   "execution_count": 5,
   "outputs": [
    {
     "data": {
      "text/plain": "MedQADataPoint(input=MedQAInput(question='A 21-year-old sexually active male complains of fever, pain during urination, and inflammation and pain in the right knee. A culture of the joint fluid shows a bacteria that does not ferment maltose and has no polysaccharide capsule. The physician orders antibiotic therapy for the patient. The mechanism of action of action of the medication given blocks cell wall synthesis, which of the following was given?', options=['Chloramphenicol', 'Gentamicin', 'Ciprofloxacin', 'Ceftriaxone', 'Trimethoprim']), expected_output='(D)', metadata=None)"
     },
     "execution_count": 5,
     "metadata": {},
     "output_type": "execute_result"
    }
   ],
   "source": [
    "example_data_point"
   ],
   "metadata": {
    "collapsed": false,
    "ExecuteTime": {
     "end_time": "2023-09-25T11:47:58.333062Z",
     "start_time": "2023-09-25T11:47:58.280955Z"
    }
   }
  },
  {
   "cell_type": "code",
   "execution_count": 6,
   "outputs": [],
   "source": [
    "from benchmarks.medqa.medqa_prompt_template import MedQAPromptTemplate, \\\n",
    "    AnswerWithExplanation\n",
    "from benchmarks.medqa.medqa_dataset_builder import MedQAInput\n",
    "\n",
    "def input_adapter(medqa_input: MedQAInput):\n",
    "    prompt_template = MedQAPromptTemplate()\n",
    "\n",
    "\n",
    "    return prompt_template.format(\n",
    "        question=medqa_input.question,\n",
    "        options=medqa_input.options\n",
    "    )"
   ],
   "metadata": {
    "collapsed": false,
    "ExecuteTime": {
     "end_time": "2023-09-25T11:47:58.339559Z",
     "start_time": "2023-09-25T11:47:58.313947Z"
    }
   }
  },
  {
   "cell_type": "code",
   "execution_count": 7,
   "outputs": [],
   "source": [
    "def output_adapter(output_json: str) -> AnswerWithExplanation:\n",
    "    parsed_output = AnswerWithExplanation.model_validate_json(output_json)\n",
    "\n",
    "    return parsed_output"
   ],
   "metadata": {
    "collapsed": false,
    "ExecuteTime": {
     "end_time": "2023-09-25T11:47:58.340110Z",
     "start_time": "2023-09-25T11:47:58.314094Z"
    }
   }
  },
  {
   "cell_type": "code",
   "execution_count": 8,
   "outputs": [],
   "source": [
    "from llms.openai_caller import OpenAI\n",
    "from medplexity.chains.evaluation_adapter_chain import EvaluationAdapterChain\n",
    "\n",
    "chain = EvaluationAdapterChain(\n",
    "    llm=OpenAI(\n",
    "        api_token=OPENAI_API_KEY\n",
    "    ),\n",
    "    input_adapter=input_adapter,\n",
    "    output_adapter=output_adapter,\n",
    ")"
   ],
   "metadata": {
    "collapsed": false,
    "ExecuteTime": {
     "end_time": "2023-09-25T11:47:58.349740Z",
     "start_time": "2023-09-25T11:47:58.333258Z"
    }
   }
  },
  {
   "cell_type": "code",
   "execution_count": 9,
   "outputs": [],
   "source": [
    "def comparator(expected_output: str, predicted_output: AnswerWithExplanation):\n",
    "\n",
    "    return expected_output == predicted_output.answer"
   ],
   "metadata": {
    "collapsed": false,
    "ExecuteTime": {
     "end_time": "2023-09-25T11:47:58.362847Z",
     "start_time": "2023-09-25T11:47:58.349937Z"
    }
   }
  },
  {
   "cell_type": "code",
   "execution_count": 10,
   "outputs": [],
   "source": [
    "from medplexity.evaluators.sequential_evaluator import SequentialEvaluator\n",
    "\n",
    "evaluator = SequentialEvaluator(\n",
    "    chain=chain,\n",
    "    comparator=comparator\n",
    ")"
   ],
   "metadata": {
    "collapsed": false,
    "ExecuteTime": {
     "end_time": "2023-09-25T11:47:58.380214Z",
     "start_time": "2023-09-25T11:47:58.363064Z"
    }
   }
  },
  {
   "cell_type": "code",
   "execution_count": 11,
   "outputs": [
    {
     "data": {
      "text/plain": "MedQAInput(question='A 21-year-old sexually active male complains of fever, pain during urination, and inflammation and pain in the right knee. A culture of the joint fluid shows a bacteria that does not ferment maltose and has no polysaccharide capsule. The physician orders antibiotic therapy for the patient. The mechanism of action of action of the medication given blocks cell wall synthesis, which of the following was given?', options=['Chloramphenicol', 'Gentamicin', 'Ciprofloxacin', 'Ceftriaxone', 'Trimethoprim'])"
     },
     "execution_count": 11,
     "metadata": {},
     "output_type": "execute_result"
    }
   ],
   "source": [
    "dataset[0].input"
   ],
   "metadata": {
    "collapsed": false,
    "ExecuteTime": {
     "end_time": "2023-09-25T11:47:58.394373Z",
     "start_time": "2023-09-25T11:47:58.380563Z"
    }
   }
  },
  {
   "cell_type": "code",
   "execution_count": 12,
   "outputs": [
    {
     "name": "stderr",
     "output_type": "stream",
     "text": [
      "100%|██████████| 1/1 [00:04<00:00,  4.48s/it]\n"
     ]
    }
   ],
   "source": [
    "evaluation = evaluator.evaluate(dataset[0:1])"
   ],
   "metadata": {
    "collapsed": false,
    "ExecuteTime": {
     "end_time": "2023-09-25T11:48:02.895399Z",
     "start_time": "2023-09-25T11:47:58.394533Z"
    }
   }
  },
  {
   "cell_type": "code",
   "execution_count": 13,
   "outputs": [
    {
     "data": {
      "text/plain": "1.0"
     },
     "execution_count": 13,
     "metadata": {},
     "output_type": "execute_result"
    }
   ],
   "source": [
    "evaluation.accuracy()"
   ],
   "metadata": {
    "collapsed": false,
    "ExecuteTime": {
     "end_time": "2023-09-25T11:48:02.933891Z",
     "start_time": "2023-09-25T11:48:02.895711Z"
    }
   }
  },
  {
   "cell_type": "code",
   "execution_count": 14,
   "outputs": [],
   "source": [
    "correct, incorrect = evaluation.partition_by_correctness()"
   ],
   "metadata": {
    "collapsed": false,
    "ExecuteTime": {
     "end_time": "2023-09-25T11:48:02.939792Z",
     "start_time": "2023-09-25T11:48:02.916888Z"
    }
   }
  },
  {
   "cell_type": "code",
   "execution_count": 15,
   "outputs": [
    {
     "data": {
      "text/plain": "[EvaluationResult(input=MedQAInput(question='A 21-year-old sexually active male complains of fever, pain during urination, and inflammation and pain in the right knee. A culture of the joint fluid shows a bacteria that does not ferment maltose and has no polysaccharide capsule. The physician orders antibiotic therapy for the patient. The mechanism of action of action of the medication given blocks cell wall synthesis, which of the following was given?', options=['Chloramphenicol', 'Gentamicin', 'Ciprofloxacin', 'Ceftriaxone', 'Trimethoprim']), input_metadata=None, expected_output='(D)', output=AnswerWithExplanation(answer='(D)', explanation='Let’s solve this step-by-step, referring to authoritative sources as needed. The bacteria that does not ferment maltose and has no polysaccharide capsule is Neisseria gonorrhoeae. The medication given that blocks cell wall synthesis is Ceftriaxone.'), correct=True)]"
     },
     "execution_count": 15,
     "metadata": {},
     "output_type": "execute_result"
    }
   ],
   "source": [
    "correct"
   ],
   "metadata": {
    "collapsed": false,
    "ExecuteTime": {
     "end_time": "2023-09-25T11:48:02.947116Z",
     "start_time": "2023-09-25T11:48:02.934082Z"
    }
   }
  },
  {
   "cell_type": "code",
   "execution_count": 16,
   "outputs": [
    {
     "data": {
      "text/plain": "[]"
     },
     "execution_count": 16,
     "metadata": {},
     "output_type": "execute_result"
    }
   ],
   "source": [
    "incorrect"
   ],
   "metadata": {
    "collapsed": false,
    "ExecuteTime": {
     "end_time": "2023-09-25T11:48:02.982227Z",
     "start_time": "2023-09-25T11:48:02.945687Z"
    }
   }
  },
  {
   "cell_type": "code",
   "execution_count": 16,
   "outputs": [],
   "source": [],
   "metadata": {
    "collapsed": false,
    "ExecuteTime": {
     "end_time": "2023-09-25T11:48:02.982471Z",
     "start_time": "2023-09-25T11:48:02.960083Z"
    }
   }
  }
 ],
 "metadata": {
  "kernelspec": {
   "display_name": "Python 3",
   "language": "python",
   "name": "python3"
  },
  "language_info": {
   "codemirror_mode": {
    "name": "ipython",
    "version": 2
   },
   "file_extension": ".py",
   "mimetype": "text/x-python",
   "name": "python",
   "nbconvert_exporter": "python",
   "pygments_lexer": "ipython2",
   "version": "2.7.6"
  }
 },
 "nbformat": 4,
 "nbformat_minor": 0
}
