{
 "cells": [
  {
   "cell_type": "markdown",
   "source": [
    "In this notebook we are using OpenAI GPT-4 for evaluation on MedQA dataset"
   ],
   "metadata": {
    "collapsed": false
   }
  },
  {
   "cell_type": "code",
   "execution_count": 1,
   "metadata": {
    "collapsed": true,
    "ExecuteTime": {
     "end_time": "2023-09-25T15:09:02.066417Z",
     "start_time": "2023-09-25T15:09:02.049776Z"
    }
   },
   "outputs": [],
   "source": [
    "%load_ext autoreload\n",
    "%autoreload 2"
   ]
  },
  {
   "cell_type": "code",
   "execution_count": 2,
   "outputs": [],
   "source": [
    "OPENAI_API_KEY = \"\""
   ],
   "metadata": {
    "collapsed": false,
    "ExecuteTime": {
     "end_time": "2023-09-25T15:09:02.072838Z",
     "start_time": "2023-09-25T15:09:02.063333Z"
    }
   }
  },
  {
   "cell_type": "code",
   "execution_count": 3,
   "outputs": [],
   "source": [
    "from benchmarks.medqa.medqa_dataset_builder import MedQADatasetBuilder\n",
    "\n",
    "dataset = MedQADatasetBuilder().build_dataset(split_type=\"validation\")"
   ],
   "metadata": {
    "collapsed": false,
    "ExecuteTime": {
     "end_time": "2023-09-25T15:09:04.519670Z",
     "start_time": "2023-09-25T15:09:02.072652Z"
    }
   }
  },
  {
   "cell_type": "code",
   "execution_count": 4,
   "outputs": [],
   "source": [
    "example_data_point = next(dataset.__iter__())"
   ],
   "metadata": {
    "collapsed": false,
    "ExecuteTime": {
     "end_time": "2023-09-25T15:09:04.532483Z",
     "start_time": "2023-09-25T15:09:04.519904Z"
    }
   }
  },
  {
   "cell_type": "code",
   "execution_count": 5,
   "outputs": [
    {
     "data": {
      "text/plain": "MedQADataPoint(input=MedQAInput(question='A 21-year-old sexually active male complains of fever, pain during urination, and inflammation and pain in the right knee. A culture of the joint fluid shows a bacteria that does not ferment maltose and has no polysaccharide capsule. The physician orders antibiotic therapy for the patient. The mechanism of action of action of the medication given blocks cell wall synthesis, which of the following was given?', options=['Chloramphenicol', 'Gentamicin', 'Ciprofloxacin', 'Ceftriaxone', 'Trimethoprim']), expected_output='(D)', metadata=None)"
     },
     "execution_count": 5,
     "metadata": {},
     "output_type": "execute_result"
    }
   ],
   "source": [
    "example_data_point"
   ],
   "metadata": {
    "collapsed": false,
    "ExecuteTime": {
     "end_time": "2023-09-25T15:09:04.550198Z",
     "start_time": "2023-09-25T15:09:04.533482Z"
    }
   }
  },
  {
   "cell_type": "code",
   "execution_count": 6,
   "outputs": [],
   "source": [
    "from benchmarks.medqa.medqa_prompt_template import MedQAPromptTemplate\n",
    "from benchmarks.medqa.medqa_dataset_builder import MedQAInput\n",
    "\n",
    "def input_adapter(medqa_input: MedQAInput):\n",
    "    prompt_template = MedQAPromptTemplate()\n",
    "\n",
    "    return prompt_template.format(\n",
    "        question=medqa_input.question,\n",
    "        options=medqa_input.options\n",
    "    )"
   ],
   "metadata": {
    "collapsed": false,
    "ExecuteTime": {
     "end_time": "2023-09-25T15:09:04.562755Z",
     "start_time": "2023-09-25T15:09:04.547969Z"
    }
   }
  },
  {
   "cell_type": "code",
   "execution_count": 7,
   "outputs": [
    {
     "data": {
      "text/plain": "'The following are multiple choice questions about medical knowledge. Solve them in a step-by-step fashion, starting by summarizing the available information. Output a JSON with the answer (give back only the letter) and an explanation for it.\\nQuestion: A 22-year-old male marathon runner presents to the office with the complaint of right-sided rib pain when he runs long distances. Physical examination reveals normal heart and lung findings and an exhalation dysfunction at ribs 4-5 on the right. Which of the following muscles or muscle groups will be most useful in correcting this dysfunction utilizing a direct method?\\n (A) anterior scalene (B) latissimus dorsi (C) pectoralis minor (D) quadratus lumborum\\nOutput: {\"answer\":\"(C)\",\"explanation\":\"Let’s solve this step-by-step, referring to authoritative sources as needed. Among the options, only pectoralis minor muscle origins from the outer surfaces of the 3rd to 5th ribs.\"}\\n\\n\\nQuestion: A 36-year-old male presents to the office with a 3-week history of low back pain. He denies any recent trauma but says that he climbs in and out of his truck numerous times a day for his job. Examination of the patient in the prone position reveals a deep sacral sulcus on the left, a posterior inferior lateral angle on the right, and a lumbosacral junction that springs freely on compression. The most likely diagnosis is\\n (A) left-on-left sacral torsion (B) left-on-right sacral torsion (C) right unilateral sacral flexion (D) right-on-right sacral torsion\\nOutput: {\"answer\":\"(D)\",\"explanation\":\"Let’s solve this step-by-step, referring to authoritative sources as needed. The deep sulcus on the left, a posterior ILA on the right, with a negative spring test suggests a right-on-right sacral torsion. All other options have a deep sulcus on the right.\"}\\n\\n\\nQuestion: A 44-year-old man comes to the office because of a 3-day history of sore throat, nonproductive cough, runny nose, and frontal headache. He says the headache is worse in the morning and ibuprofen does provide some relief. He has not had shortness of breath. Medical history is unremarkable. He takes no medications other than the ibuprofen for pain. Vital signs are temperature 37.4°C (99.4°F), pulse 88/min, respirations 18/min, and blood pressure 120/84 mm Hg. Examination of the nares shows erythematous mucous membranes. Examination of the throat shows erythema and follicular lymphoid hyperplasia on the posterior oropharynx. There is no palpable cervical adenopathy. Lungs are clear to auscultation. Which of the following is the most likely cause of this patient’s symptoms?\\n (A) Allergic rhinitis (B) Epstein-Barr virus (C) Mycoplasma pneumonia (D) Rhinovirus\\nOutput: {\"answer\":\"(D)\",\"explanation\":\"Let’s solve this step-by-step, referring to authoritative sources as needed. The symptoms, especially the headache, suggest that the most likely cause is Rhinovirus. Epstein-Barr virus will cause swollen lymph nodes but there is no palpable cervical adenopathy. Lungs are clear to auscultation suggests it’s not Mycoplasma pneumonia.\"}\\n\\n\\nQuestion: A previously healthy 32-year-old woman comes to the physician 8 months after her husband was killed in a car crash. Since that time, she has had a decreased appetite and difficulty falling asleep. She states that she is often sad and cries frequently. She has been rechecking the door lock five times before leaving her house and has to count exactly five pieces of toilet paper before she uses it. She says that she has always been a perfectionist but these urges and rituals are new. Pharmacotherapy should be targeted to which of the following neurotransmitters?\\n (A) Dopamine (B) Glutamate (C) Norepinephrine (D) Serotonin\\nOutput: {\"answer\":\"(D)\",\"explanation\":\"Let’s solve this step-by-step, referring to authoritative sources as needed. The patient feels sad and among the options, only Dopamine and Serotonin can help increase positive emotions. Serotonin also affects digestion and metabolism, which can help the patient’s decreased appetite and sleep difficulty.\"}\\n\\n\\nQuestion: A 42-year-old man comes to the office for preoperative evaluation prior to undergoing adrenalectomy scheduled in 2 weeks. One month ago, he received care in the emergency department for pain over his right flank following a motor vehicle collision. At that time, blood pressure was 160/100 mm Hg and CT scan of the abdomen showed an incidental 10-cm left adrenal mass. Results of laboratory studies, including complete blood count, serum electrolyte concentrations, and liver function tests, were within the reference ranges. The patient otherwise had been healthy and had never been told that he had elevated blood pressure. He takes no medications. A follow-up visit in the office 2 weeks ago disclosed elevated urinary normetanephrine and metanephrine and plasma aldosterone concentrations. The patient was referred to a surgeon, who recommended the adrenalectomy. Today, vital signs are temperature 36.6°C (97.9°F), pulse 100/min, respirations 14/min, and blood pressure 170/95 mm Hg. Physical examination discloses no significant findings. Initial preoperative preparation should include treatment with which of the following?\\n (A) Labetalol (B) A loading dose of potassium chloride (C) Nifedipine (D) Phenoxybenzamine\\nOutput: {\"answer\":\"(D)\",\"explanation\":\"Let’s solve this step-by-step, referring to authoritative sources as needed. The symptoms and the adrenal mass suggested pheochromocytoma, and the blood pressure indicates hypertension. Phenoxybenzamine is used to treat hypertension caused by pheochromocytoma.\"}\\n\\n\\nQuestion: A 21-year-old sexually active male complains of fever, pain during urination, and inflammation and pain in the right knee. A culture of the joint fluid shows a bacteria that does not ferment maltose and has no polysaccharide capsule. The physician orders antibiotic therapy for the patient. The mechanism of action of action of the medication given blocks cell wall synthesis, which of the following was given?\\n[\\'Chloramphenicol\\', \\'Gentamicin\\', \\'Ciprofloxacin\\', \\'Ceftriaxone\\', \\'Trimethoprim\\']\\nOutput: '"
     },
     "execution_count": 7,
     "metadata": {},
     "output_type": "execute_result"
    }
   ],
   "source": [
    "input_adapter(example_data_point.input)"
   ],
   "metadata": {
    "collapsed": false,
    "ExecuteTime": {
     "end_time": "2023-09-25T15:09:04.745812Z",
     "start_time": "2023-09-25T15:09:04.562028Z"
    }
   }
  },
  {
   "cell_type": "code",
   "execution_count": 8,
   "outputs": [],
   "source": [
    "from benchmarks.multiple_choice_utils import AnswerWithExplanation\n",
    "\n",
    "\n",
    "def output_adapter(output_json: str) -> AnswerWithExplanation:\n",
    "    parsed_output = AnswerWithExplanation.model_validate_json(output_json)\n",
    "\n",
    "    return parsed_output"
   ],
   "metadata": {
    "collapsed": false,
    "ExecuteTime": {
     "end_time": "2023-09-25T15:09:04.752351Z",
     "start_time": "2023-09-25T15:09:04.638753Z"
    }
   }
  },
  {
   "cell_type": "code",
   "execution_count": 9,
   "outputs": [],
   "source": [
    "from llms.openai_caller import OpenAI\n",
    "from medplexity.chains.evaluation_adapter_chain import EvaluationAdapterChain\n",
    "\n",
    "chain = EvaluationAdapterChain(\n",
    "    llm=OpenAI(\n",
    "        api_token=OPENAI_API_KEY\n",
    "    ),\n",
    "    input_adapter=input_adapter,\n",
    "    output_adapter=output_adapter,\n",
    ")"
   ],
   "metadata": {
    "collapsed": false,
    "ExecuteTime": {
     "end_time": "2023-09-25T15:09:04.752554Z",
     "start_time": "2023-09-25T15:09:04.638866Z"
    }
   }
  },
  {
   "cell_type": "code",
   "execution_count": 10,
   "outputs": [],
   "source": [
    "def comparator(expected_output: str, predicted_output: AnswerWithExplanation):\n",
    "\n",
    "    return expected_output == predicted_output.answer"
   ],
   "metadata": {
    "collapsed": false,
    "ExecuteTime": {
     "end_time": "2023-09-25T15:09:04.752740Z",
     "start_time": "2023-09-25T15:09:04.638899Z"
    }
   }
  },
  {
   "cell_type": "code",
   "execution_count": 11,
   "outputs": [],
   "source": [
    "from medplexity.evaluators.sequential_evaluator import SequentialEvaluator\n",
    "\n",
    "evaluator = SequentialEvaluator(\n",
    "    chain=chain,\n",
    "    comparator=comparator\n",
    ")"
   ],
   "metadata": {
    "collapsed": false,
    "ExecuteTime": {
     "end_time": "2023-09-25T15:09:04.752950Z",
     "start_time": "2023-09-25T15:09:04.647263Z"
    }
   }
  },
  {
   "cell_type": "code",
   "execution_count": 12,
   "outputs": [
    {
     "data": {
      "text/plain": "MedQAInput(question='A 21-year-old sexually active male complains of fever, pain during urination, and inflammation and pain in the right knee. A culture of the joint fluid shows a bacteria that does not ferment maltose and has no polysaccharide capsule. The physician orders antibiotic therapy for the patient. The mechanism of action of action of the medication given blocks cell wall synthesis, which of the following was given?', options=['Chloramphenicol', 'Gentamicin', 'Ciprofloxacin', 'Ceftriaxone', 'Trimethoprim'])"
     },
     "execution_count": 12,
     "metadata": {},
     "output_type": "execute_result"
    }
   ],
   "source": [
    "dataset[0].input"
   ],
   "metadata": {
    "collapsed": false,
    "ExecuteTime": {
     "end_time": "2023-09-25T15:09:04.753101Z",
     "start_time": "2023-09-25T15:09:04.714570Z"
    }
   }
  },
  {
   "cell_type": "code",
   "execution_count": 13,
   "outputs": [
    {
     "name": "stderr",
     "output_type": "stream",
     "text": [
      "100%|██████████| 1/1 [00:04<00:00,  4.01s/it]\n"
     ]
    }
   ],
   "source": [
    "evaluation = evaluator.evaluate(dataset[0:1])"
   ],
   "metadata": {
    "collapsed": false,
    "ExecuteTime": {
     "end_time": "2023-09-25T15:09:08.727883Z",
     "start_time": "2023-09-25T15:09:04.714753Z"
    }
   }
  },
  {
   "cell_type": "code",
   "execution_count": 14,
   "outputs": [
    {
     "data": {
      "text/plain": "1.0"
     },
     "execution_count": 14,
     "metadata": {},
     "output_type": "execute_result"
    }
   ],
   "source": [
    "evaluation.accuracy()"
   ],
   "metadata": {
    "collapsed": false,
    "ExecuteTime": {
     "end_time": "2023-09-25T15:09:08.760736Z",
     "start_time": "2023-09-25T15:09:08.728238Z"
    }
   }
  },
  {
   "cell_type": "code",
   "execution_count": 15,
   "outputs": [],
   "source": [
    "correct, incorrect = evaluation.partition_by_correctness()"
   ],
   "metadata": {
    "collapsed": false,
    "ExecuteTime": {
     "end_time": "2023-09-25T15:09:08.769356Z",
     "start_time": "2023-09-25T15:09:08.760581Z"
    }
   }
  },
  {
   "cell_type": "code",
   "execution_count": 16,
   "outputs": [
    {
     "data": {
      "text/plain": "[EvaluationResult(input=MedQAInput(question='A 21-year-old sexually active male complains of fever, pain during urination, and inflammation and pain in the right knee. A culture of the joint fluid shows a bacteria that does not ferment maltose and has no polysaccharide capsule. The physician orders antibiotic therapy for the patient. The mechanism of action of action of the medication given blocks cell wall synthesis, which of the following was given?', options=['Chloramphenicol', 'Gentamicin', 'Ciprofloxacin', 'Ceftriaxone', 'Trimethoprim']), input_metadata=None, expected_output='(D)', output=AnswerWithExplanation(answer='(D)', explanation='Let’s solve this step-by-step, referring to authoritative sources as needed. The bacteria that does not ferment maltose and has no polysaccharide capsule is Neisseria gonorrhoeae. The medication given to block cell wall synthesis is Ceftriaxone.'), correct=True)]"
     },
     "execution_count": 16,
     "metadata": {},
     "output_type": "execute_result"
    }
   ],
   "source": [
    "correct"
   ],
   "metadata": {
    "collapsed": false,
    "ExecuteTime": {
     "end_time": "2023-09-25T15:09:08.788344Z",
     "start_time": "2023-09-25T15:09:08.767358Z"
    }
   }
  },
  {
   "cell_type": "code",
   "execution_count": 17,
   "outputs": [
    {
     "data": {
      "text/plain": "[]"
     },
     "execution_count": 17,
     "metadata": {},
     "output_type": "execute_result"
    }
   ],
   "source": [
    "incorrect"
   ],
   "metadata": {
    "collapsed": false,
    "ExecuteTime": {
     "end_time": "2023-09-25T15:09:08.797788Z",
     "start_time": "2023-09-25T15:09:08.783003Z"
    }
   }
  },
  {
   "cell_type": "code",
   "execution_count": 17,
   "outputs": [],
   "source": [],
   "metadata": {
    "collapsed": false,
    "ExecuteTime": {
     "end_time": "2023-09-25T15:09:08.812539Z",
     "start_time": "2023-09-25T15:09:08.797609Z"
    }
   }
  }
 ],
 "metadata": {
  "kernelspec": {
   "display_name": "Python 3",
   "language": "python",
   "name": "python3"
  },
  "language_info": {
   "codemirror_mode": {
    "name": "ipython",
    "version": 2
   },
   "file_extension": ".py",
   "mimetype": "text/x-python",
   "name": "python",
   "nbconvert_exporter": "python",
   "pygments_lexer": "ipython2",
   "version": "2.7.6"
  }
 },
 "nbformat": 4,
 "nbformat_minor": 0
}
