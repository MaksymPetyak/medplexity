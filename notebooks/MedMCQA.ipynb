{
 "cells": [
  {
   "cell_type": "code",
   "execution_count": 38,
   "metadata": {
    "collapsed": true,
    "ExecuteTime": {
     "end_time": "2023-09-21T10:34:00.695365Z",
     "start_time": "2023-09-21T10:34:00.437641Z"
    }
   },
   "outputs": [
    {
     "name": "stdout",
     "output_type": "stream",
     "text": [
      "The autoreload extension is already loaded. To reload it, use:\n",
      "  %reload_ext autoreload\n"
     ]
    }
   ],
   "source": [
    "%load_ext autoreload\n",
    "%autoreload 2"
   ]
  },
  {
   "cell_type": "code",
   "execution_count": 111,
   "outputs": [],
   "source": [
    "from medplexity.benchmarks.medmcqa.medmcqa_loader import MedMCQALoader\n",
    "from medplexity.benchmarks.medmcqa.medmcqa_dataset_builder import MedMCQADatasetBuilder\n",
    "from medplexity.benchmarks.medmcqa.medmcqa_prompt_template import MedMCQAPromptTemplate\n"
   ],
   "metadata": {
    "collapsed": false,
    "ExecuteTime": {
     "end_time": "2023-09-21T11:09:08.488444Z",
     "start_time": "2023-09-21T11:09:08.335286Z"
    }
   }
  },
  {
   "cell_type": "code",
   "execution_count": null,
   "outputs": [],
   "source": [
    "# Set your OpenAI API key\n",
    "OPENAI_API_KEY = \"\""
   ],
   "metadata": {
    "collapsed": false
   }
  },
  {
   "cell_type": "code",
   "execution_count": 119,
   "outputs": [],
   "source": [
    "loader = MedMCQALoader()"
   ],
   "metadata": {
    "collapsed": false,
    "ExecuteTime": {
     "end_time": "2023-09-21T11:24:01.647202Z",
     "start_time": "2023-09-21T11:24:01.493386Z"
    }
   }
  },
  {
   "cell_type": "code",
   "execution_count": 120,
   "outputs": [],
   "source": [
    "dataset = MedMCQADatasetBuilder().build_dataset(\"validation\")"
   ],
   "metadata": {
    "collapsed": false,
    "ExecuteTime": {
     "end_time": "2023-09-21T11:24:04.167786Z",
     "start_time": "2023-09-21T11:24:02.091647Z"
    }
   }
  },
  {
   "cell_type": "code",
   "execution_count": 121,
   "outputs": [],
   "source": [
    "example_data_point = next(dataset.__iter__())"
   ],
   "metadata": {
    "collapsed": false,
    "ExecuteTime": {
     "end_time": "2023-09-21T11:24:06.261798Z",
     "start_time": "2023-09-21T11:24:06.238403Z"
    }
   }
  },
  {
   "cell_type": "code",
   "execution_count": 122,
   "outputs": [
    {
     "data": {
      "text/plain": "MedMCQADataPoint(input=MedMCQAInput(question='Which of the following is not true for myelinated nerve fibers:', options=['Impulse through myelinated fibers is slower than non-myelinated fibers', 'Membrane currents are generated at nodes of Ranvier', 'Saltatory conduction of impulses is seen', 'Local anesthesia is effective only when the nerve is not covered by myelin sheath']), expected_output=0, metadata=MedMCQAOutputMetadata(explanation=None, subject_name='Physiology'))"
     },
     "execution_count": 122,
     "metadata": {},
     "output_type": "execute_result"
    }
   ],
   "source": [
    "example_data_point"
   ],
   "metadata": {
    "collapsed": false,
    "ExecuteTime": {
     "end_time": "2023-09-21T11:24:09.557800Z",
     "start_time": "2023-09-21T11:24:09.532084Z"
    }
   }
  },
  {
   "cell_type": "code",
   "execution_count": 123,
   "outputs": [],
   "source": [
    "from medplexity.benchmarks.medmcqa.medmcqa_dataset_builder import MedMCQAInput\n",
    "\n",
    "def input_adapter(medmcqa_input: MedMCQAInput):\n",
    "    prompt_template = MedMCQAPromptTemplate()\n",
    "\n",
    "    return prompt_template.format(\n",
    "        question=medmcqa_input.question,\n",
    "        options=medmcqa_input.options\n",
    "    )"
   ],
   "metadata": {
    "collapsed": false,
    "ExecuteTime": {
     "end_time": "2023-09-21T12:30:59.307593Z",
     "start_time": "2023-09-21T12:30:59.275994Z"
    }
   }
  },
  {
   "cell_type": "code",
   "execution_count": 124,
   "outputs": [],
   "source": [
    "from medplexity.benchmarks.medmcqa.medmcqa_prompt_template import AnswerWithExplanation\n",
    "\n",
    "def output_adapter(output_json: str) -> AnswerWithExplanation:\n",
    "    parsed_output = MedMCQAPromptTemplate.parser.model_validate_json(output_json)\n",
    "\n",
    "    return parsed_output"
   ],
   "metadata": {
    "collapsed": false,
    "ExecuteTime": {
     "end_time": "2023-09-21T12:31:00.690172Z",
     "start_time": "2023-09-21T12:31:00.674742Z"
    }
   }
  },
  {
   "cell_type": "code",
   "execution_count": 125,
   "outputs": [],
   "source": [
    "from medplexity.llms.openai_caller import OpenAI\n",
    "from medplexity.chains.evaluation_adapter_chain import EvaluationAdapterChain\n",
    "\n",
    "chain = EvaluationAdapterChain(\n",
    "    llm=OpenAI(\n",
    "        api_token=OPENAI_API_KEY\n",
    "    ),\n",
    "    input_adapter=input_adapter,\n",
    "    output_adapter=output_adapter,\n",
    ")"
   ],
   "metadata": {
    "collapsed": false,
    "ExecuteTime": {
     "end_time": "2023-09-21T12:31:01.071330Z",
     "start_time": "2023-09-21T12:31:01.053454Z"
    }
   }
  },
  {
   "cell_type": "code",
   "execution_count": 126,
   "outputs": [],
   "source": [
    "def comparator(expected_output: int, predicted_output: AnswerWithExplanation):\n",
    "    letter_to_idx = { \"(A)\" : 1, \"(B)\": 2, \"(C)\": 3, \"(D)\": 4 }\n",
    "    print(predicted_output)\n",
    "    predicted_idx =  letter_to_idx[predicted_output.answer]\n",
    "\n",
    "    return expected_output == predicted_idx"
   ],
   "metadata": {
    "collapsed": false,
    "ExecuteTime": {
     "end_time": "2023-09-21T12:31:01.516096Z",
     "start_time": "2023-09-21T12:31:01.495662Z"
    }
   }
  },
  {
   "cell_type": "code",
   "execution_count": 127,
   "outputs": [],
   "source": [
    "from medplexity.evaluators.sequential_evaluator import SequentialEvaluator\n",
    "\n",
    "evaluator = SequentialEvaluator(\n",
    "    chain=chain,\n",
    "    comparator=comparator\n",
    ")"
   ],
   "metadata": {
    "collapsed": false,
    "ExecuteTime": {
     "end_time": "2023-09-21T12:31:01.864469Z",
     "start_time": "2023-09-21T12:31:01.847347Z"
    }
   }
  },
  {
   "cell_type": "code",
   "execution_count": 128,
   "outputs": [
    {
     "data": {
      "text/plain": "MedMCQAInput(question='Which of the following is not true for myelinated nerve fibers:', options=['Impulse through myelinated fibers is slower than non-myelinated fibers', 'Membrane currents are generated at nodes of Ranvier', 'Saltatory conduction of impulses is seen', 'Local anesthesia is effective only when the nerve is not covered by myelin sheath'])"
     },
     "execution_count": 128,
     "metadata": {},
     "output_type": "execute_result"
    }
   ],
   "source": [
    "dataset[0].input"
   ],
   "metadata": {
    "collapsed": false,
    "ExecuteTime": {
     "end_time": "2023-09-21T12:31:02.263783Z",
     "start_time": "2023-09-21T12:31:02.247575Z"
    }
   }
  },
  {
   "cell_type": "code",
   "execution_count": 129,
   "outputs": [
    {
     "name": "stderr",
     "output_type": "stream",
     "text": [
      " 50%|█████     | 1/2 [00:05<00:05,  5.12s/it]"
     ]
    },
    {
     "name": "stdout",
     "output_type": "stream",
     "text": [
      "answer='(A)' explanation=\"Let’s solve this step-by-step, referring to authoritative sources as needed. Myelinated nerve fibers conduct impulses faster than non-myelinated fibers, so the statement 'Impulse through myelinated fibers is slower than non-myelinated fibers' is not true. The other statements are all true for myelinated nerve fibers. Therefore, the correct answer is (A) Impulse through myelinated fibers is slower than non-myelinated fibers.\"\n"
     ]
    },
    {
     "name": "stderr",
     "output_type": "stream",
     "text": [
      "100%|██████████| 2/2 [00:09<00:00,  4.91s/it]"
     ]
    },
    {
     "name": "stdout",
     "output_type": "stream",
     "text": [
      "answer='(B)' explanation='Let’s solve this step-by-step, referring to authoritative sources as needed. The statement that glucose concentration in the capillaries is the same as that in glomerular filtrate is not true. Glucose is reabsorbed in the proximal tubules and therefore its concentration in the capillaries is higher than in the glomerular filtrate. Therefore, option (B) is the correct answer.'\n"
     ]
    },
    {
     "name": "stderr",
     "output_type": "stream",
     "text": [
      "\n"
     ]
    }
   ],
   "source": [
    "evaluation = evaluator.evaluate(dataset[0:2])"
   ],
   "metadata": {
    "collapsed": false,
    "ExecuteTime": {
     "end_time": "2023-09-21T12:31:12.497867Z",
     "start_time": "2023-09-21T12:31:02.657606Z"
    }
   }
  },
  {
   "cell_type": "code",
   "execution_count": 130,
   "outputs": [],
   "source": [
    "correct, incorrect = evaluation.partition_by_correctness()"
   ],
   "metadata": {
    "collapsed": false,
    "ExecuteTime": {
     "end_time": "2023-09-21T12:31:12.549019Z",
     "start_time": "2023-09-21T12:31:12.499899Z"
    }
   }
  }
 ],
 "metadata": {
  "kernelspec": {
   "display_name": "Python 3",
   "language": "python",
   "name": "python3"
  },
  "language_info": {
   "codemirror_mode": {
    "name": "ipython",
    "version": 2
   },
   "file_extension": ".py",
   "mimetype": "text/x-python",
   "name": "python",
   "nbconvert_exporter": "python",
   "pygments_lexer": "ipython2",
   "version": "2.7.6"
  }
 },
 "nbformat": 4,
 "nbformat_minor": 0
}
