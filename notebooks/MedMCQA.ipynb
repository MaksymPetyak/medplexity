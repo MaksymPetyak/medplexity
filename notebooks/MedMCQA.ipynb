{
 "cells": [
  {
   "cell_type": "code",
   "execution_count": 1,
   "metadata": {
    "collapsed": true,
    "ExecuteTime": {
     "end_time": "2023-09-22T15:59:24.141818Z",
     "start_time": "2023-09-22T15:59:24.120355Z"
    }
   },
   "outputs": [],
   "source": [
    "%load_ext autoreload\n",
    "%autoreload 2"
   ]
  },
  {
   "cell_type": "code",
   "execution_count": 2,
   "outputs": [],
   "source": [
    "from medplexity.benchmarks.medmcqa.medmcqa_loader import MedMCQALoader\n",
    "from medplexity.benchmarks.medmcqa.medmcqa_dataset_builder import MedMCQADatasetBuilder\n",
    "from medplexity.benchmarks.medmcqa.medmcqa_prompt_template import MedMCQAPromptTemplate\n"
   ],
   "metadata": {
    "collapsed": false,
    "ExecuteTime": {
     "end_time": "2023-09-22T15:59:24.820501Z",
     "start_time": "2023-09-22T15:59:24.133612Z"
    }
   }
  },
  {
   "cell_type": "code",
   "execution_count": 3,
   "outputs": [],
   "source": [
    "# Set your OpenAI API key\n",
    "OPENAI_API_KEY = \"\""
   ],
   "metadata": {
    "collapsed": false,
    "ExecuteTime": {
     "end_time": "2023-09-22T15:59:24.830108Z",
     "start_time": "2023-09-22T15:59:24.820346Z"
    }
   }
  },
  {
   "cell_type": "code",
   "execution_count": 4,
   "outputs": [],
   "source": [
    "loader = MedMCQALoader()"
   ],
   "metadata": {
    "collapsed": false,
    "ExecuteTime": {
     "end_time": "2023-09-22T15:59:24.844669Z",
     "start_time": "2023-09-22T15:59:24.830619Z"
    }
   }
  },
  {
   "cell_type": "code",
   "execution_count": 5,
   "outputs": [],
   "source": [
    "dataset = MedMCQADatasetBuilder().build_dataset(\"validation\")"
   ],
   "metadata": {
    "collapsed": false,
    "ExecuteTime": {
     "end_time": "2023-09-22T15:59:27.448877Z",
     "start_time": "2023-09-22T15:59:24.844287Z"
    }
   }
  },
  {
   "cell_type": "code",
   "execution_count": 6,
   "outputs": [],
   "source": [
    "example_data_point = next(dataset.__iter__())"
   ],
   "metadata": {
    "collapsed": false,
    "ExecuteTime": {
     "end_time": "2023-09-22T15:59:27.462089Z",
     "start_time": "2023-09-22T15:59:27.448241Z"
    }
   }
  },
  {
   "cell_type": "code",
   "execution_count": 7,
   "outputs": [
    {
     "data": {
      "text/plain": "MedMCQADataPoint(input=MedMCQAInput(question='Which of the following is not true for myelinated nerve fibers:', options=['Impulse through myelinated fibers is slower than non-myelinated fibers', 'Membrane currents are generated at nodes of Ranvier', 'Saltatory conduction of impulses is seen', 'Local anesthesia is effective only when the nerve is not covered by myelin sheath']), expected_output=0, metadata=MedMCQAOutputMetadata(explanation=None, subject_name='Physiology'))"
     },
     "execution_count": 7,
     "metadata": {},
     "output_type": "execute_result"
    }
   ],
   "source": [
    "example_data_point"
   ],
   "metadata": {
    "collapsed": false,
    "ExecuteTime": {
     "end_time": "2023-09-22T15:59:27.476664Z",
     "start_time": "2023-09-22T15:59:27.462416Z"
    }
   }
  },
  {
   "cell_type": "code",
   "execution_count": 8,
   "outputs": [],
   "source": [
    "from medplexity.benchmarks.medmcqa.medmcqa_dataset_builder import MedMCQAInput\n",
    "\n",
    "def input_adapter(medmcqa_input: MedMCQAInput):\n",
    "    prompt_template = MedMCQAPromptTemplate()\n",
    "\n",
    "    return prompt_template.format(\n",
    "        question=medmcqa_input.question,\n",
    "        options=medmcqa_input.options\n",
    "    )"
   ],
   "metadata": {
    "collapsed": false,
    "ExecuteTime": {
     "end_time": "2023-09-22T15:59:27.490433Z",
     "start_time": "2023-09-22T15:59:27.476928Z"
    }
   }
  },
  {
   "cell_type": "code",
   "execution_count": 9,
   "outputs": [],
   "source": [
    "from medplexity.benchmarks.medmcqa.medmcqa_prompt_template import AnswerWithExplanation\n",
    "\n",
    "def output_adapter(output_json: str) -> AnswerWithExplanation:\n",
    "    parsed_output = MedMCQAPromptTemplate.parser.model_validate_json(output_json)\n",
    "\n",
    "    return parsed_output"
   ],
   "metadata": {
    "collapsed": false,
    "ExecuteTime": {
     "end_time": "2023-09-22T15:59:27.522850Z",
     "start_time": "2023-09-22T15:59:27.490630Z"
    }
   }
  },
  {
   "cell_type": "code",
   "execution_count": 10,
   "outputs": [],
   "source": [
    "from medplexity.llms.openai_caller import OpenAI\n",
    "from medplexity.chains.evaluation_adapter_chain import EvaluationAdapterChain\n",
    "\n",
    "chain = EvaluationAdapterChain(\n",
    "    llm=OpenAI(\n",
    "        api_token=OPENAI_API_KEY\n",
    "    ),\n",
    "    input_adapter=input_adapter,\n",
    "    output_adapter=output_adapter,\n",
    ")"
   ],
   "metadata": {
    "collapsed": false,
    "ExecuteTime": {
     "end_time": "2023-09-22T15:59:27.531503Z",
     "start_time": "2023-09-22T15:59:27.505705Z"
    }
   }
  },
  {
   "cell_type": "code",
   "execution_count": 11,
   "outputs": [],
   "source": [
    "def comparator(expected_output: int, predicted_output: AnswerWithExplanation):\n",
    "    letter_to_idx = { \"(A)\" : 1, \"(B)\": 2, \"(C)\": 3, \"(D)\": 4 }\n",
    "    predicted_idx =  letter_to_idx[predicted_output.answer]\n",
    "\n",
    "    return expected_output == predicted_idx"
   ],
   "metadata": {
    "collapsed": false,
    "ExecuteTime": {
     "end_time": "2023-09-22T15:59:27.545791Z",
     "start_time": "2023-09-22T15:59:27.529156Z"
    }
   }
  },
  {
   "cell_type": "code",
   "execution_count": 12,
   "outputs": [],
   "source": [
    "from medplexity.evaluators.sequential_evaluator import SequentialEvaluator\n",
    "\n",
    "evaluator = SequentialEvaluator(\n",
    "    chain=chain,\n",
    "    comparator=comparator\n",
    ")"
   ],
   "metadata": {
    "collapsed": false,
    "ExecuteTime": {
     "end_time": "2023-09-22T15:59:27.561638Z",
     "start_time": "2023-09-22T15:59:27.543476Z"
    }
   }
  },
  {
   "cell_type": "code",
   "execution_count": 13,
   "outputs": [
    {
     "data": {
      "text/plain": "MedMCQAInput(question='Which of the following is not true for myelinated nerve fibers:', options=['Impulse through myelinated fibers is slower than non-myelinated fibers', 'Membrane currents are generated at nodes of Ranvier', 'Saltatory conduction of impulses is seen', 'Local anesthesia is effective only when the nerve is not covered by myelin sheath'])"
     },
     "execution_count": 13,
     "metadata": {},
     "output_type": "execute_result"
    }
   ],
   "source": [
    "dataset[0].input"
   ],
   "metadata": {
    "collapsed": false,
    "ExecuteTime": {
     "end_time": "2023-09-22T15:59:27.582483Z",
     "start_time": "2023-09-22T15:59:27.561985Z"
    }
   }
  },
  {
   "cell_type": "code",
   "execution_count": 14,
   "outputs": [
    {
     "name": "stderr",
     "output_type": "stream",
     "text": [
      "100%|██████████| 2/2 [00:09<00:00,  4.86s/it]\n"
     ]
    }
   ],
   "source": [
    "evaluation = evaluator.evaluate(dataset[:2])"
   ],
   "metadata": {
    "collapsed": false,
    "ExecuteTime": {
     "end_time": "2023-09-22T15:59:37.346863Z",
     "start_time": "2023-09-22T15:59:27.577925Z"
    }
   }
  },
  {
   "cell_type": "code",
   "execution_count": 17,
   "outputs": [
    {
     "data": {
      "text/plain": "0.0"
     },
     "execution_count": 17,
     "metadata": {},
     "output_type": "execute_result"
    }
   ],
   "source": [
    "evaluation.accuracy()"
   ],
   "metadata": {
    "collapsed": false,
    "ExecuteTime": {
     "end_time": "2023-09-22T15:59:53.625009Z",
     "start_time": "2023-09-22T15:59:53.601367Z"
    }
   }
  },
  {
   "cell_type": "code",
   "execution_count": 15,
   "outputs": [],
   "source": [
    "correct, incorrect = evaluation.partition_by_correctness()"
   ],
   "metadata": {
    "collapsed": false,
    "ExecuteTime": {
     "end_time": "2023-09-22T15:59:37.347227Z",
     "start_time": "2023-09-22T15:59:37.334780Z"
    }
   }
  },
  {
   "cell_type": "code",
   "execution_count": 16,
   "outputs": [
    {
     "data": {
      "text/plain": "[EvaluationResult(input=MedMCQAInput(question='Which of the following is not true for myelinated nerve fibers:', options=['Impulse through myelinated fibers is slower than non-myelinated fibers', 'Membrane currents are generated at nodes of Ranvier', 'Saltatory conduction of impulses is seen', 'Local anesthesia is effective only when the nerve is not covered by myelin sheath']), input_metadata=MedMCQAOutputMetadata(explanation=None, subject_name='Physiology'), expected_output=0, output=AnswerWithExplanation(answer='(A)', explanation=\"Let’s solve this step-by-step, referring to authoritative sources as needed. Myelinated nerve fibers conduct impulses faster than non-myelinated fibers, so the statement 'Impulse through myelinated fibers is slower than non-myelinated fibers' is not true. The other statements are all true for myelinated nerve fibers. Therefore, the correct answer is (A) Impulse through myelinated fibers is slower than non-myelinated fibers.\"), correct=False),\n EvaluationResult(input=MedMCQAInput(question=\"Which of the following is not true about glomerular capillaries')\", options=['The oncotic pressure of the fluid leaving the capillaries is less than that of fluid entering it', 'Glucose concentration in the capillaries is the same as that in glomerular filtrate', 'Constriction of afferent aeriole decreases the blood flow to the glomerulas', 'Hematocrit of the fluid leaving the capillaries is less than that of the fluid entering it']), input_metadata=MedMCQAOutputMetadata(explanation='Ans-a. The oncotic pressure of the fluid leaving the capillaries is less than that of fluid entering it Guyton I LpJ1 4-.;anong 23/e p653-6_)Glomerular oncotic pressure (due to plasma protein content) is higher than that of filtrate oncotic pressure in Bowman\\'s capsule\"Since glucose is freely filtered and the fluid in the Bowman\\'s capsule is isotonic with plasma, the concentration of glucose in the filtrate is the same as in the capillaries', subject_name='Physiology'), expected_output=0, output=AnswerWithExplanation(answer='(B)', explanation='Let’s solve this step-by-step, referring to authoritative sources as needed. The statement that glucose concentration in the capillaries is the same as that in glomerular filtrate is not true. Glucose is reabsorbed in the proximal tubules and therefore its concentration in the capillaries is higher than in the glomerular filtrate. Therefore, option (B) is the correct answer.'), correct=False)]"
     },
     "execution_count": 16,
     "metadata": {},
     "output_type": "execute_result"
    }
   ],
   "source": [
    "incorrect"
   ],
   "metadata": {
    "collapsed": false,
    "ExecuteTime": {
     "end_time": "2023-09-22T15:59:37.347631Z",
     "start_time": "2023-09-22T15:59:37.335369Z"
    }
   }
  }
 ],
 "metadata": {
  "kernelspec": {
   "display_name": "Python 3",
   "language": "python",
   "name": "python3"
  },
  "language_info": {
   "codemirror_mode": {
    "name": "ipython",
    "version": 2
   },
   "file_extension": ".py",
   "mimetype": "text/x-python",
   "name": "python",
   "nbconvert_exporter": "python",
   "pygments_lexer": "ipython2",
   "version": "2.7.6"
  }
 },
 "nbformat": 4,
 "nbformat_minor": 0
}
