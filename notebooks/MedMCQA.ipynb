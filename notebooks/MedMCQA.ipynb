{
 "cells": [
  {
   "cell_type": "markdown",
   "source": [
    "In this notebook we are using Llama-2 hosted on deepinfra (https://deepinfra.com/) for evaluation on MedMCQA dataset"
   ],
   "metadata": {
    "collapsed": false
   }
  },
  {
   "cell_type": "code",
   "execution_count": 1,
   "metadata": {
    "collapsed": true,
    "ExecuteTime": {
     "end_time": "2023-09-25T15:09:47.795767Z",
     "start_time": "2023-09-25T15:09:47.777073Z"
    }
   },
   "outputs": [],
   "source": [
    "%load_ext autoreload\n",
    "%autoreload 2"
   ]
  },
  {
   "cell_type": "code",
   "execution_count": 2,
   "outputs": [],
   "source": [
    "from medplexity.benchmarks.medmcqa.medmcqa_loader import MedMCQALoader\n",
    "from medplexity.benchmarks.medmcqa.medmcqa_dataset_builder import MedMCQADatasetBuilder\n",
    "from medplexity.benchmarks.medmcqa.medmcqa_prompt_template import MedMCQAPromptTemplate\n"
   ],
   "metadata": {
    "collapsed": false,
    "ExecuteTime": {
     "end_time": "2023-09-25T15:09:48.364612Z",
     "start_time": "2023-09-25T15:09:47.790810Z"
    }
   }
  },
  {
   "cell_type": "code",
   "execution_count": 3,
   "outputs": [],
   "source": [
    "DEEPINFRA_API_KEY = \"\""
   ],
   "metadata": {
    "collapsed": false,
    "ExecuteTime": {
     "end_time": "2023-09-25T15:09:48.378138Z",
     "start_time": "2023-09-25T15:09:48.364920Z"
    }
   }
  },
  {
   "cell_type": "code",
   "execution_count": 4,
   "outputs": [],
   "source": [
    "loader = MedMCQALoader()"
   ],
   "metadata": {
    "collapsed": false,
    "ExecuteTime": {
     "end_time": "2023-09-25T15:09:48.392634Z",
     "start_time": "2023-09-25T15:09:48.378434Z"
    }
   }
  },
  {
   "cell_type": "code",
   "execution_count": 5,
   "outputs": [],
   "source": [
    "dataset = MedMCQADatasetBuilder().build_dataset(\"validation\")"
   ],
   "metadata": {
    "collapsed": false,
    "ExecuteTime": {
     "end_time": "2023-09-25T15:09:50.200039Z",
     "start_time": "2023-09-25T15:09:48.391705Z"
    }
   }
  },
  {
   "cell_type": "code",
   "execution_count": 6,
   "outputs": [],
   "source": [
    "example_data_point = next(dataset.__iter__())"
   ],
   "metadata": {
    "collapsed": false,
    "ExecuteTime": {
     "end_time": "2023-09-25T15:09:50.208400Z",
     "start_time": "2023-09-25T15:09:50.191572Z"
    }
   }
  },
  {
   "cell_type": "code",
   "execution_count": 7,
   "outputs": [
    {
     "data": {
      "text/plain": "MedMCQADataPoint(input=MedMCQAInput(question='Which of the following is not true for myelinated nerve fibers:', options=['Impulse through myelinated fibers is slower than non-myelinated fibers', 'Membrane currents are generated at nodes of Ranvier', 'Saltatory conduction of impulses is seen', 'Local anesthesia is effective only when the nerve is not covered by myelin sheath']), expected_output=0, metadata=MedMCQAOutputMetadata(explanation=None, subject_name='Physiology'))"
     },
     "execution_count": 7,
     "metadata": {},
     "output_type": "execute_result"
    }
   ],
   "source": [
    "example_data_point"
   ],
   "metadata": {
    "collapsed": false,
    "ExecuteTime": {
     "end_time": "2023-09-25T15:09:50.224512Z",
     "start_time": "2023-09-25T15:09:50.204965Z"
    }
   }
  },
  {
   "cell_type": "code",
   "execution_count": 8,
   "outputs": [],
   "source": [
    "from medplexity.benchmarks.medmcqa.medmcqa_dataset_builder import MedMCQAInput\n",
    "\n",
    "def input_adapter(medmcqa_input: MedMCQAInput):\n",
    "    prompt_template = MedMCQAPromptTemplate()\n",
    "\n",
    "    sys_prompt = '<<SYS>>Always output a JSON of the format {\"answer\": \"(A) | (B) | (C) | (D)\", \"explanation\": \"text explaining the choice\"}<</SYS>> \\n'\n",
    "\n",
    "    instructions = \"[INST]\" + prompt_template.format(\n",
    "        question=medmcqa_input.question,\n",
    "        options=medmcqa_input.options\n",
    "    ) + \"[/INST]\"\n",
    "\n",
    "    return sys_prompt + instructions"
   ],
   "metadata": {
    "collapsed": false,
    "ExecuteTime": {
     "end_time": "2023-09-25T15:09:50.249563Z",
     "start_time": "2023-09-25T15:09:50.220253Z"
    }
   }
  },
  {
   "cell_type": "code",
   "execution_count": 9,
   "outputs": [],
   "source": [
    "from benchmarks.multiple_choice_utils import AnswerWithExplanation\n",
    "import re\n",
    "\n",
    "\n",
    "def extract_option(s):\n",
    "    options = re.findall(r'\\((A|B|C|D)\\)', s)\n",
    "    if len(options) > 1:\n",
    "        raise ValueError(\"More than one option found!\")\n",
    "    elif options:\n",
    "        return '(' + options[0] + ')'\n",
    "    else:\n",
    "        raise ValueError(\"No option provided in the answer\")\n",
    "\n",
    "\n",
    "\n",
    "def output_adapter(output_json: str) -> AnswerWithExplanation:\n",
    "    parsed_output = AnswerWithExplanation.model_validate_json(output_json)\n",
    "\n",
    "    # sometimes in addition the letter it returns also an explanation, so here we just extract the relevant letter\n",
    "    parsed_output.answer = extract_option(parsed_output.answer)\n",
    "\n",
    "    return parsed_output"
   ],
   "metadata": {
    "collapsed": false,
    "ExecuteTime": {
     "end_time": "2023-09-25T15:09:50.260050Z",
     "start_time": "2023-09-25T15:09:50.233671Z"
    }
   }
  },
  {
   "cell_type": "code",
   "execution_count": 10,
   "outputs": [],
   "source": [
    "from medplexity.llms.deepinfra import Deepinfra\n",
    "from medplexity.chains.evaluation_adapter_chain import EvaluationAdapterChain\n",
    "\n",
    "chain = EvaluationAdapterChain(\n",
    "    llm=Deepinfra(\n",
    "        api_token=DEEPINFRA_API_KEY\n",
    "    ),\n",
    "    input_adapter=input_adapter,\n",
    "    output_adapter=output_adapter,\n",
    ")"
   ],
   "metadata": {
    "collapsed": false,
    "ExecuteTime": {
     "end_time": "2023-09-25T15:09:50.267865Z",
     "start_time": "2023-09-25T15:09:50.249772Z"
    }
   }
  },
  {
   "cell_type": "code",
   "execution_count": 11,
   "outputs": [],
   "source": [
    "def comparator(expected_output: int, predicted_output: AnswerWithExplanation):\n",
    "    letter_to_idx = { \"(A)\" : 0, \"(B)\": 1, \"(C)\": 2, \"(D)\": 3 }\n",
    "    predicted_idx =  letter_to_idx[predicted_output.answer]\n",
    "\n",
    "    return expected_output == predicted_idx"
   ],
   "metadata": {
    "collapsed": false,
    "ExecuteTime": {
     "end_time": "2023-09-25T15:09:50.278515Z",
     "start_time": "2023-09-25T15:09:50.262600Z"
    }
   }
  },
  {
   "cell_type": "code",
   "execution_count": 12,
   "outputs": [],
   "source": [
    "from medplexity.evaluators.sequential_evaluator import SequentialEvaluator\n",
    "\n",
    "evaluator = SequentialEvaluator(\n",
    "    chain=chain,\n",
    "    comparator=comparator\n",
    ")"
   ],
   "metadata": {
    "collapsed": false,
    "ExecuteTime": {
     "end_time": "2023-09-25T15:09:50.299666Z",
     "start_time": "2023-09-25T15:09:50.276472Z"
    }
   }
  },
  {
   "cell_type": "code",
   "execution_count": 13,
   "outputs": [
    {
     "data": {
      "text/plain": "MedMCQAInput(question='Which of the following is not true for myelinated nerve fibers:', options=['Impulse through myelinated fibers is slower than non-myelinated fibers', 'Membrane currents are generated at nodes of Ranvier', 'Saltatory conduction of impulses is seen', 'Local anesthesia is effective only when the nerve is not covered by myelin sheath'])"
     },
     "execution_count": 13,
     "metadata": {},
     "output_type": "execute_result"
    }
   ],
   "source": [
    "dataset[0].input"
   ],
   "metadata": {
    "collapsed": false,
    "ExecuteTime": {
     "end_time": "2023-09-25T15:09:50.310308Z",
     "start_time": "2023-09-25T15:09:50.293046Z"
    }
   }
  },
  {
   "cell_type": "code",
   "execution_count": 19,
   "outputs": [
    {
     "name": "stderr",
     "output_type": "stream",
     "text": [
      "100%|██████████| 2/2 [00:11<00:00,  5.90s/it]\n"
     ]
    }
   ],
   "source": [
    "evaluation = evaluator.evaluate(dataset[2:4])"
   ],
   "metadata": {
    "collapsed": false,
    "ExecuteTime": {
     "end_time": "2023-09-25T15:11:09.672915Z",
     "start_time": "2023-09-25T15:10:57.853168Z"
    }
   }
  },
  {
   "cell_type": "code",
   "execution_count": 20,
   "outputs": [
    {
     "data": {
      "text/plain": "0.5"
     },
     "execution_count": 20,
     "metadata": {},
     "output_type": "execute_result"
    }
   ],
   "source": [
    "evaluation.accuracy()"
   ],
   "metadata": {
    "collapsed": false,
    "ExecuteTime": {
     "end_time": "2023-09-25T15:11:09.703873Z",
     "start_time": "2023-09-25T15:11:09.675155Z"
    }
   }
  },
  {
   "cell_type": "code",
   "execution_count": 21,
   "outputs": [],
   "source": [
    "correct, incorrect = evaluation.partition_by_correctness()"
   ],
   "metadata": {
    "collapsed": false,
    "ExecuteTime": {
     "end_time": "2023-09-25T15:11:09.712983Z",
     "start_time": "2023-09-25T15:11:09.695888Z"
    }
   }
  },
  {
   "cell_type": "code",
   "execution_count": 22,
   "outputs": [
    {
     "data": {
      "text/plain": "[EvaluationResult(input=MedMCQAInput(question='Axonal transport is:', options=['Antegrade', 'Retrograde', 'Antegrade and retrograde', 'None']), input_metadata=MedMCQAOutputMetadata(explanation='Fast anterograde (400 mm/day) transport occurs by kinesin molecular motor and retrograde transport (200 mm/day) occurs by dynein molecular motor.', subject_name='Physiology'), expected_output=2, output=AnswerWithExplanation(answer='(A)', explanation='Axonal transport refers to the movement of materials along the length of a nerve fiber, and it is primarily antegrade, meaning that it moves from the cell body to the synapse.'), correct=False)]"
     },
     "execution_count": 22,
     "metadata": {},
     "output_type": "execute_result"
    }
   ],
   "source": [
    "incorrect"
   ],
   "metadata": {
    "collapsed": false,
    "ExecuteTime": {
     "end_time": "2023-09-25T15:11:09.755986Z",
     "start_time": "2023-09-25T15:11:09.713489Z"
    }
   }
  },
  {
   "cell_type": "code",
   "execution_count": null,
   "outputs": [],
   "source": [],
   "metadata": {
    "collapsed": false
   }
  }
 ],
 "metadata": {
  "kernelspec": {
   "display_name": "Python 3",
   "language": "python",
   "name": "python3"
  },
  "language_info": {
   "codemirror_mode": {
    "name": "ipython",
    "version": 2
   },
   "file_extension": ".py",
   "mimetype": "text/x-python",
   "name": "python",
   "nbconvert_exporter": "python",
   "pygments_lexer": "ipython2",
   "version": "2.7.6"
  }
 },
 "nbformat": 4,
 "nbformat_minor": 0
}
