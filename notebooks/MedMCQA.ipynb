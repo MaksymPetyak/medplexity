{
 "cells": [
  {
   "cell_type": "markdown",
   "source": [
    "In this notebook we are using Llama-2 hosted on deepinfra (https://deepinfra.com/) for evaluation on MedMCQA dataset"
   ],
   "metadata": {
    "collapsed": false
   }
  },
  {
   "cell_type": "code",
   "execution_count": 1,
   "metadata": {
    "collapsed": true,
    "ExecuteTime": {
     "end_time": "2023-09-25T15:09:47.795767Z",
     "start_time": "2023-09-25T15:09:47.777073Z"
    }
   },
   "outputs": [],
   "source": [
    "%load_ext autoreload\n",
    "%autoreload 2"
   ]
  },
  {
   "cell_type": "code",
   "execution_count": 2,
   "outputs": [],
   "source": [
    "from medplexity.benchmarks.medmcqa.medmcqa_loader import MedMCQALoader\n",
    "from medplexity.benchmarks.medmcqa.medmcqa_dataset_builder import MedMCQADatasetBuilder\n",
    "from medplexity.benchmarks.medmcqa.medmcqa_prompt_template import MedMCQAPromptTemplate\n"
   ],
   "metadata": {
    "collapsed": false,
    "ExecuteTime": {
     "end_time": "2023-09-25T15:09:48.364612Z",
     "start_time": "2023-09-25T15:09:47.790810Z"
    }
   }
  },
  {
   "cell_type": "code",
   "execution_count": 3,
   "outputs": [],
   "source": [
    "DEEPINFRA_API_KEY = \"\""
   ],
   "metadata": {
    "collapsed": false,
    "ExecuteTime": {
     "end_time": "2023-09-25T15:09:48.378138Z",
     "start_time": "2023-09-25T15:09:48.364920Z"
    }
   }
  },
  {
   "cell_type": "code",
   "execution_count": 4,
   "outputs": [],
   "source": [
    "loader = MedMCQALoader()"
   ],
   "metadata": {
    "collapsed": false,
    "ExecuteTime": {
     "end_time": "2023-09-25T15:09:48.392634Z",
     "start_time": "2023-09-25T15:09:48.378434Z"
    }
   }
  },
  {
   "cell_type": "code",
   "execution_count": 5,
   "outputs": [],
   "source": [
    "dataset = MedMCQADatasetBuilder().build_dataset(\"validation\")"
   ],
   "metadata": {
    "collapsed": false,
    "ExecuteTime": {
     "end_time": "2023-09-25T15:09:50.200039Z",
     "start_time": "2023-09-25T15:09:48.391705Z"
    }
   }
  },
  {
   "cell_type": "code",
   "execution_count": 6,
   "outputs": [],
   "source": [
    "example_data_point = next(dataset.__iter__())"
   ],
   "metadata": {
    "collapsed": false,
    "ExecuteTime": {
     "end_time": "2023-09-25T15:09:50.208400Z",
     "start_time": "2023-09-25T15:09:50.191572Z"
    }
   }
  },
  {
   "cell_type": "code",
   "execution_count": 7,
   "outputs": [
    {
     "data": {
      "text/plain": "MedMCQADataPoint(input=MedMCQAInput(question='Which of the following is not true for myelinated nerve fibers:', options=['Impulse through myelinated fibers is slower than non-myelinated fibers', 'Membrane currents are generated at nodes of Ranvier', 'Saltatory conduction of impulses is seen', 'Local anesthesia is effective only when the nerve is not covered by myelin sheath']), expected_output=0, metadata=MedMCQAOutputMetadata(explanation=None, subject_name='Physiology'))"
     },
     "execution_count": 7,
     "metadata": {},
     "output_type": "execute_result"
    }
   ],
   "source": [
    "example_data_point"
   ],
   "metadata": {
    "collapsed": false,
    "ExecuteTime": {
     "end_time": "2023-09-25T15:09:50.224512Z",
     "start_time": "2023-09-25T15:09:50.204965Z"
    }
   }
  },
  {
   "cell_type": "code",
   "execution_count": 8,
   "outputs": [],
   "source": [
    "from medplexity.benchmarks.medmcqa.medmcqa_dataset_builder import MedMCQAInput\n",
    "\n",
    "def input_adapter(medmcqa_input: MedMCQAInput):\n",
    "    prompt_template = MedMCQAPromptTemplate()\n",
    "\n",
    "    sys_prompt = '<<SYS>>Always output a JSON of the format {\"answer\": \"(A) | (B) | (C) | (D)\", \"explanation\": \"text explaining the choice\"}<</SYS>> \\n'\n",
    "\n",
    "    instructions = \"[INST]\" + prompt_template.format(\n",
    "        question=medmcqa_input.question,\n",
    "        options=medmcqa_input.options\n",
    "    ) + \"[/INST]\"\n",
    "\n",
    "    return sys_prompt + instructions"
   ],
   "metadata": {
    "collapsed": false,
    "ExecuteTime": {
     "end_time": "2023-09-25T15:09:50.249563Z",
     "start_time": "2023-09-25T15:09:50.220253Z"
    }
   }
  },
  {
   "cell_type": "code",
   "execution_count": 9,
   "outputs": [],
   "source": [
    "from benchmarks.multiple_choice_utils import AnswerWithExplanation\n",
    "import re\n",
    "\n",
    "\n",
    "def extract_option(s):\n",
    "    options = re.findall(r'\\((A|B|C|D)\\)', s)\n",
    "    if len(options) > 1:\n",
    "        raise ValueError(\"More than one option found!\")\n",
    "    elif options:\n",
    "        return '(' + options[0] + ')'\n",
    "    else:\n",
    "        raise ValueError(\"No option provided in the answer\")\n",
    "\n",
    "\n",
    "\n",
    "def output_adapter(output_json: str) -> AnswerWithExplanation:\n",
    "    parsed_output = AnswerWithExplanation.model_validate_json(output_json)\n",
    "\n",
    "    # sometimes in addition the letter it returns also an explanation, so here we just extract the relevant letter\n",
    "    parsed_output.answer = extract_option(parsed_output.answer)\n",
    "\n",
    "    return parsed_output"
   ],
   "metadata": {
    "collapsed": false,
    "ExecuteTime": {
     "end_time": "2023-09-25T15:09:50.260050Z",
     "start_time": "2023-09-25T15:09:50.233671Z"
    }
   }
  },
  {
   "cell_type": "code",
   "execution_count": 10,
   "outputs": [],
   "source": [
    "from medplexity.llms.deepinfra import Deepinfra\n",
    "from medplexity.chains.evaluation_adapter_chain import EvaluationAdapterChain\n",
    "\n",
    "chain = EvaluationAdapterChain(\n",
    "    llm=Deepinfra(\n",
    "        api_token=DEEPINFRA_API_KEY\n",
    "    ),\n",
    "    input_adapter=input_adapter,\n",
    "    output_adapter=output_adapter,\n",
    ")"
   ],
   "metadata": {
    "collapsed": false,
    "ExecuteTime": {
     "end_time": "2023-09-25T15:09:50.267865Z",
     "start_time": "2023-09-25T15:09:50.249772Z"
    }
   }
  },
  {
   "cell_type": "code",
   "execution_count": 11,
   "outputs": [],
   "source": [
    "def comparator(expected_output: int, predicted_output: AnswerWithExplanation):\n",
    "    letter_to_idx = { \"(A)\" : 0, \"(B)\": 1, \"(C)\": 2, \"(D)\": 3 }\n",
    "    predicted_idx =  letter_to_idx[predicted_output.answer]\n",
    "\n",
    "    return expected_output == predicted_idx"
   ],
   "metadata": {
    "collapsed": false,
    "ExecuteTime": {
     "end_time": "2023-09-25T15:09:50.278515Z",
     "start_time": "2023-09-25T15:09:50.262600Z"
    }
   }
  },
  {
   "cell_type": "code",
   "execution_count": 12,
   "outputs": [],
   "source": [
    "from medplexity.evaluators.sequential_evaluator import SequentialEvaluator\n",
    "\n",
    "evaluator = SequentialEvaluator(\n",
    "    chain=chain,\n",
    "    comparator=comparator\n",
    ")"
   ],
   "metadata": {
    "collapsed": false,
    "ExecuteTime": {
     "end_time": "2023-09-25T15:09:50.299666Z",
     "start_time": "2023-09-25T15:09:50.276472Z"
    }
   }
  },
  {
   "cell_type": "code",
   "execution_count": 24,
   "outputs": [
    {
     "data": {
      "text/plain": "'<<SYS>>Always output a JSON of the format {\"answer\": \"(A) | (B) | (C) | (D)\", \"explanation\": \"text explaining the choice\"}<</SYS>> \\n[INST]The following are multiple choice questions about medical knowledge. Solve them in a step-by-step fashion, starting by summarizing the available information. Output a JSON with the answer (give back only the letter) and an explanation for it.\\nQuestion: Maximum increase in prolactin level is caused by:\\n (A) Risperidone (B) Clozapine (C) Olanzapine (D) Aripiprazole\\nOutput: {\"answer\":\"(A)\",\"explanation\":\"Let’s solve this step-by-step, referring to authoritative sources as needed. Clozapine generally does not raise prolactin levels. Atypicals such as olanzapine and aripiprazole cause small if no elevation. Risperidone is known to result in a sustained elevated prolactin level. Therefore risperidone is likely to cause the maximum increase in prolactin level.\"}\\n\\n\\nQuestion: What is the age of routine screening mammography?\\n (A) 20 years (B) 30 years (C) 40 years (D) 50 years\\nOutput: {\"answer\":\"(C)\",\"explanation\":\"Let’s solve this step-by-step, referring to authoritative sources as needed. The age of routine screening depends on the country you are interested in and varies widely. For the US, it is 40 years of age according to the American Cancer Society. In Europe, it is typically closer to 50 years. For a patient based in the US, the best answer is 40 years.\"}\\n\\n\\nQuestion: A 65-year-old male complains of severe back pain and inability to move his left lower limb. Radiographic studies demonstrate the compression of nerve elements at the intervertebral foramen between vertebrae L5 and S1. Which structure is most likely responsible for this space-occupying lesion?\\n (A) Anulus fibrosus (B) Nucleus pulposus (C) Posterior longitudinal ligament (D) Anterior longitudinal ligament\\nOutput: {\"answer\":\"(B)\",\"explanation\":\"Let’s solve this step-by-step, referring to authoritative sources as needed. This man describes a herniated invertebral disk through a tear in the surrounding annulus fibrosus. The soft, gelatinous \\\\\"nucleus pulposus\\\\\" is forced out through a weakened part of the disk, resulting in back pain and nerve root irritation. In this case, the impingement is resulting in paralysis, and should be considered a medical emergency. Overall, the structure that is causing the compression and symptoms is the nucleus pulposus.\"}\\n\\n\\nQuestion: Neuroendocrine cells in the lungs are:\\n (A) Dendritic cells (B) Type I pneumocytes (C) Type II pneumocytes (D) APUD cells\\nOutput: {\"answer\":\"(D)\",\"explanation\":\"Let’s solve this step-by-step, referring to authoritative sources as needed. Neuroendocrine cells, which are also known as Kultschitsky-type cells, Feyrter cells and APUD cells, are found in the basal layer of the surface epithelium and in the bronchial glands.\"}\\n\\n\\nQuestion: Presence of it indicates remote contamination of water\\n (A) Streptococci (B) Staphalococci (C) Clastridium pertringes (D) Nibrio\\nOutput: {\"answer\":\"(C)\",\"explanation\":\"Let’s solve this step-by-step, referring to authoritative sources as needed. Because Clostridium perfringens spores are both specific to sewage contamination and environmentally stable, they are considered as possible conservative indicators of human fecal contamination and possible surrogates for environmentally stable pathogens.\"}\\n\\n    \\nQuestion: Which of the following is not true for myelinated nerve fibers:\\n(A) Impulse through myelinated fibers is slower than non-myelinated fibers (B) Membrane currents are generated at nodes of Ranvier (C) Saltatory conduction of impulses is seen (D) Local anesthesia is effective only when the nerve is not covered by myelin sheath\\nOutput: [/INST]'"
     },
     "execution_count": 24,
     "metadata": {},
     "output_type": "execute_result"
    }
   ],
   "source": [
    "input_adapter(dataset[0].input)"
   ],
   "metadata": {
    "collapsed": false,
    "ExecuteTime": {
     "end_time": "2023-09-25T17:31:18.213024Z",
     "start_time": "2023-09-25T17:31:18.152750Z"
    }
   }
  },
  {
   "cell_type": "code",
   "execution_count": 19,
   "outputs": [
    {
     "name": "stderr",
     "output_type": "stream",
     "text": [
      "100%|██████████| 2/2 [00:11<00:00,  5.90s/it]\n"
     ]
    }
   ],
   "source": [
    "evaluation = evaluator.evaluate(dataset[2:4])"
   ],
   "metadata": {
    "collapsed": false,
    "ExecuteTime": {
     "end_time": "2023-09-25T15:11:09.672915Z",
     "start_time": "2023-09-25T15:10:57.853168Z"
    }
   }
  },
  {
   "cell_type": "code",
   "execution_count": 20,
   "outputs": [
    {
     "data": {
      "text/plain": "0.5"
     },
     "execution_count": 20,
     "metadata": {},
     "output_type": "execute_result"
    }
   ],
   "source": [
    "evaluation.accuracy()"
   ],
   "metadata": {
    "collapsed": false,
    "ExecuteTime": {
     "end_time": "2023-09-25T15:11:09.703873Z",
     "start_time": "2023-09-25T15:11:09.675155Z"
    }
   }
  },
  {
   "cell_type": "code",
   "execution_count": 21,
   "outputs": [],
   "source": [
    "correct, incorrect = evaluation.partition_by_correctness()"
   ],
   "metadata": {
    "collapsed": false,
    "ExecuteTime": {
     "end_time": "2023-09-25T15:11:09.712983Z",
     "start_time": "2023-09-25T15:11:09.695888Z"
    }
   }
  },
  {
   "cell_type": "code",
   "execution_count": 22,
   "outputs": [
    {
     "data": {
      "text/plain": "[EvaluationResult(input=MedMCQAInput(question='Axonal transport is:', options=['Antegrade', 'Retrograde', 'Antegrade and retrograde', 'None']), input_metadata=MedMCQAOutputMetadata(explanation='Fast anterograde (400 mm/day) transport occurs by kinesin molecular motor and retrograde transport (200 mm/day) occurs by dynein molecular motor.', subject_name='Physiology'), expected_output=2, output=AnswerWithExplanation(answer='(A)', explanation='Axonal transport refers to the movement of materials along the length of a nerve fiber, and it is primarily antegrade, meaning that it moves from the cell body to the synapse.'), correct=False)]"
     },
     "execution_count": 22,
     "metadata": {},
     "output_type": "execute_result"
    }
   ],
   "source": [
    "incorrect"
   ],
   "metadata": {
    "collapsed": false,
    "ExecuteTime": {
     "end_time": "2023-09-25T15:11:09.755986Z",
     "start_time": "2023-09-25T15:11:09.713489Z"
    }
   }
  },
  {
   "cell_type": "code",
   "execution_count": null,
   "outputs": [],
   "source": [],
   "metadata": {
    "collapsed": false
   }
  }
 ],
 "metadata": {
  "kernelspec": {
   "display_name": "Python 3",
   "language": "python",
   "name": "python3"
  },
  "language_info": {
   "codemirror_mode": {
    "name": "ipython",
    "version": 2
   },
   "file_extension": ".py",
   "mimetype": "text/x-python",
   "name": "python",
   "nbconvert_exporter": "python",
   "pygments_lexer": "ipython2",
   "version": "2.7.6"
  }
 },
 "nbformat": 4,
 "nbformat_minor": 0
}
