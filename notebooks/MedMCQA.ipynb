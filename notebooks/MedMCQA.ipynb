{
 "cells": [
  {
   "cell_type": "markdown",
   "source": [
    "In this notebook we are using Llama-2 hosted on deepinfra (https://deepinfra.com/) for evaluation on MedMCQA dataset"
   ],
   "metadata": {
    "collapsed": false
   }
  },
  {
   "cell_type": "code",
   "execution_count": 1,
   "metadata": {
    "collapsed": true,
    "ExecuteTime": {
     "end_time": "2023-09-23T13:54:16.160919Z",
     "start_time": "2023-09-23T13:54:16.144193Z"
    }
   },
   "outputs": [],
   "source": [
    "%load_ext autoreload\n",
    "%autoreload 2"
   ]
  },
  {
   "cell_type": "code",
   "execution_count": 2,
   "outputs": [],
   "source": [
    "from medplexity.benchmarks.medmcqa.medmcqa_loader import MedMCQALoader\n",
    "from medplexity.benchmarks.medmcqa.medmcqa_dataset_builder import MedMCQADatasetBuilder\n",
    "from medplexity.benchmarks.medmcqa.medmcqa_prompt_template import MedMCQAPromptTemplate\n"
   ],
   "metadata": {
    "collapsed": false,
    "ExecuteTime": {
     "end_time": "2023-09-23T13:54:16.955666Z",
     "start_time": "2023-09-23T13:54:16.159341Z"
    }
   }
  },
  {
   "cell_type": "code",
   "execution_count": 3,
   "outputs": [],
   "source": [
    "DEEPINFRA_API_KEY = \"\""
   ],
   "metadata": {
    "collapsed": false,
    "ExecuteTime": {
     "end_time": "2023-09-23T13:54:16.969442Z",
     "start_time": "2023-09-23T13:54:16.955927Z"
    }
   }
  },
  {
   "cell_type": "code",
   "execution_count": 4,
   "outputs": [],
   "source": [
    "loader = MedMCQALoader()"
   ],
   "metadata": {
    "collapsed": false,
    "ExecuteTime": {
     "end_time": "2023-09-23T13:54:16.985283Z",
     "start_time": "2023-09-23T13:54:16.969798Z"
    }
   }
  },
  {
   "cell_type": "code",
   "execution_count": 5,
   "outputs": [],
   "source": [
    "dataset = MedMCQADatasetBuilder().build_dataset(\"validation\")"
   ],
   "metadata": {
    "collapsed": false,
    "ExecuteTime": {
     "end_time": "2023-09-23T13:54:18.690613Z",
     "start_time": "2023-09-23T13:54:16.984231Z"
    }
   }
  },
  {
   "cell_type": "code",
   "execution_count": 6,
   "outputs": [],
   "source": [
    "example_data_point = next(dataset.__iter__())"
   ],
   "metadata": {
    "collapsed": false,
    "ExecuteTime": {
     "end_time": "2023-09-23T13:54:18.703686Z",
     "start_time": "2023-09-23T13:54:18.690887Z"
    }
   }
  },
  {
   "cell_type": "code",
   "execution_count": 7,
   "outputs": [
    {
     "data": {
      "text/plain": "MedMCQADataPoint(input=MedMCQAInput(question='Which of the following is not true for myelinated nerve fibers:', options=['Impulse through myelinated fibers is slower than non-myelinated fibers', 'Membrane currents are generated at nodes of Ranvier', 'Saltatory conduction of impulses is seen', 'Local anesthesia is effective only when the nerve is not covered by myelin sheath']), expected_output=0, metadata=MedMCQAOutputMetadata(explanation=None, subject_name='Physiology'))"
     },
     "execution_count": 7,
     "metadata": {},
     "output_type": "execute_result"
    }
   ],
   "source": [
    "example_data_point"
   ],
   "metadata": {
    "collapsed": false,
    "ExecuteTime": {
     "end_time": "2023-09-23T13:54:18.719041Z",
     "start_time": "2023-09-23T13:54:18.704064Z"
    }
   }
  },
  {
   "cell_type": "code",
   "execution_count": 8,
   "outputs": [],
   "source": [
    "from medplexity.benchmarks.medmcqa.medmcqa_dataset_builder import MedMCQAInput\n",
    "\n",
    "def input_adapter(medmcqa_input: MedMCQAInput):\n",
    "    prompt_template = MedMCQAPromptTemplate()\n",
    "\n",
    "    sys_prompt = '<<SYS>>Always output a JSON of the format {\"answer\": \"(A) | (B) | (C) | (D)\", \"explanation\": \"text explaining the choice\"}<</SYS>> \\n'\n",
    "\n",
    "    instructions = \"[INST]\" + prompt_template.format(\n",
    "        question=medmcqa_input.question,\n",
    "        options=medmcqa_input.options\n",
    "    ) + \"[/INST]\"\n",
    "\n",
    "    return sys_prompt + instructions"
   ],
   "metadata": {
    "collapsed": false,
    "ExecuteTime": {
     "end_time": "2023-09-23T13:54:18.732498Z",
     "start_time": "2023-09-23T13:54:18.718592Z"
    }
   }
  },
  {
   "cell_type": "code",
   "execution_count": 9,
   "outputs": [],
   "source": [
    "import re\n",
    "from medplexity.benchmarks.medmcqa.medmcqa_prompt_template import AnswerWithExplanation\n",
    "\n",
    "\n",
    "def extract_option(s):\n",
    "    options = re.findall(r'\\((A|B|C|D)\\)', s)\n",
    "    if len(options) > 1:\n",
    "        raise ValueError(\"More than one option found!\")\n",
    "    elif options:\n",
    "        return '(' + options[0] + ')'\n",
    "    else:\n",
    "        raise ValueError(\"No option provided in the answer\")\n",
    "\n",
    "\n",
    "\n",
    "def output_adapter(output_json: str) -> AnswerWithExplanation:\n",
    "    parsed_output = AnswerWithExplanation.model_validate_json(output_json)\n",
    "\n",
    "    # sometimes in addition the letter it returns also an explanation, so here we just extract the relevant letter\n",
    "    parsed_output.answer = extract_option(parsed_output.answer)\n",
    "\n",
    "    return parsed_output"
   ],
   "metadata": {
    "collapsed": false,
    "ExecuteTime": {
     "end_time": "2023-09-23T13:54:18.761558Z",
     "start_time": "2023-09-23T13:54:18.733094Z"
    }
   }
  },
  {
   "cell_type": "code",
   "execution_count": 10,
   "outputs": [],
   "source": [
    "from medplexity.llms.deepinfra import Deepinfra\n",
    "from medplexity.chains.evaluation_adapter_chain import EvaluationAdapterChain\n",
    "\n",
    "chain = EvaluationAdapterChain(\n",
    "    llm=Deepinfra(\n",
    "        api_token=DEEPINFRA_API_KEY\n",
    "    ),\n",
    "    input_adapter=input_adapter,\n",
    "    output_adapter=output_adapter,\n",
    ")"
   ],
   "metadata": {
    "collapsed": false,
    "ExecuteTime": {
     "end_time": "2023-09-23T13:54:18.767608Z",
     "start_time": "2023-09-23T13:54:18.746787Z"
    }
   }
  },
  {
   "cell_type": "code",
   "execution_count": 11,
   "outputs": [],
   "source": [
    "def comparator(expected_output: int, predicted_output: AnswerWithExplanation):\n",
    "    letter_to_idx = { \"(A)\" : 0, \"(B)\": 1, \"(C)\": 2, \"(D)\": 3 }\n",
    "    predicted_idx =  letter_to_idx[predicted_output.answer]\n",
    "\n",
    "    return expected_output == predicted_idx"
   ],
   "metadata": {
    "collapsed": false,
    "ExecuteTime": {
     "end_time": "2023-09-23T13:54:18.777291Z",
     "start_time": "2023-09-23T13:54:18.762152Z"
    }
   }
  },
  {
   "cell_type": "code",
   "execution_count": 12,
   "outputs": [],
   "source": [
    "from medplexity.evaluators.sequential_evaluator import SequentialEvaluator\n",
    "\n",
    "evaluator = SequentialEvaluator(\n",
    "    chain=chain,\n",
    "    comparator=comparator\n",
    ")"
   ],
   "metadata": {
    "collapsed": false,
    "ExecuteTime": {
     "end_time": "2023-09-23T13:54:18.794130Z",
     "start_time": "2023-09-23T13:54:18.776228Z"
    }
   }
  },
  {
   "cell_type": "code",
   "execution_count": 13,
   "outputs": [
    {
     "data": {
      "text/plain": "MedMCQAInput(question='Which of the following is not true for myelinated nerve fibers:', options=['Impulse through myelinated fibers is slower than non-myelinated fibers', 'Membrane currents are generated at nodes of Ranvier', 'Saltatory conduction of impulses is seen', 'Local anesthesia is effective only when the nerve is not covered by myelin sheath'])"
     },
     "execution_count": 13,
     "metadata": {},
     "output_type": "execute_result"
    }
   ],
   "source": [
    "dataset[0].input"
   ],
   "metadata": {
    "collapsed": false,
    "ExecuteTime": {
     "end_time": "2023-09-23T13:54:18.809765Z",
     "start_time": "2023-09-23T13:54:18.794336Z"
    }
   }
  },
  {
   "cell_type": "code",
   "execution_count": 14,
   "outputs": [
    {
     "name": "stderr",
     "output_type": "stream",
     "text": [
      "100%|██████████| 3/3 [00:23<00:00,  7.85s/it]\n"
     ]
    }
   ],
   "source": [
    "evaluation = evaluator.evaluate(dataset[10:13])"
   ],
   "metadata": {
    "collapsed": false,
    "ExecuteTime": {
     "end_time": "2023-09-23T13:54:42.374793Z",
     "start_time": "2023-09-23T13:54:18.811869Z"
    }
   }
  },
  {
   "cell_type": "code",
   "execution_count": 15,
   "outputs": [
    {
     "data": {
      "text/plain": "0.6666666666666666"
     },
     "execution_count": 15,
     "metadata": {},
     "output_type": "execute_result"
    }
   ],
   "source": [
    "evaluation.accuracy()"
   ],
   "metadata": {
    "collapsed": false,
    "ExecuteTime": {
     "end_time": "2023-09-23T13:54:42.392123Z",
     "start_time": "2023-09-23T13:54:42.375402Z"
    }
   }
  },
  {
   "cell_type": "code",
   "execution_count": 16,
   "outputs": [],
   "source": [
    "correct, incorrect = evaluation.partition_by_correctness()"
   ],
   "metadata": {
    "collapsed": false,
    "ExecuteTime": {
     "end_time": "2023-09-23T13:54:42.412151Z",
     "start_time": "2023-09-23T13:54:42.392368Z"
    }
   }
  },
  {
   "cell_type": "code",
   "execution_count": 17,
   "outputs": [
    {
     "data": {
      "text/plain": "[EvaluationResult(input=MedMCQAInput(question='A second-year PG resident tells you to perform an ABG of a patient. All of the following are true about performing an ABG except:', options=['Before performing the ABG, syringe should be loaded with 0.3 cc of heparin', 'Normal pH, HCO. and PCO, levels may not indicate absence of an acid-base imbalance', \"A different site should be tried i f modified Allen's test is negative\", 'Radial aery is the preferred site']), input_metadata=MedMCQAOutputMetadata(explanation='Ans: A. Before performing the ABG, syringe should be loaded with 0.3 cc of heparin(Ref: Harrison 18/e p364; http:// emedicine.medscape.comlaiclell 902703-overview).Care should be taken when measuring blood gases to obtain the aerial blood sample without using excessive heparin.Heparin should be expelled from the syringe after loading as it may lead to false pCO2 readings.Precautions:Most syringes come pre-packaged & contain a small amount of heparin, to prevent coagulation.Other syringes may need to be heparinized, by drawing up a small amount of liquid heparin & squiing it out again to remove air bubbles.Once the sample is obtained, care is taken to eliminate visible gas bubbles, as these bubbles can dissolve into the sample & cause inaccurate results.', subject_name='Medicine'), expected_output=0, output=AnswerWithExplanation(answer='(D)', explanation=\"Let's solve this step-by-step, referring to authoritative sources as needed. The radial artery is not the preferred site for performing an ABG. The preferred site is the arterial puncture site is the brachial artery, followed by the femoral artery. The radial artery is a superficial artery and not suitable for ABG. The other options are all true statements about performing an ABG.\"), correct=False)]"
     },
     "execution_count": 17,
     "metadata": {},
     "output_type": "execute_result"
    }
   ],
   "source": [
    "incorrect"
   ],
   "metadata": {
    "collapsed": false,
    "ExecuteTime": {
     "end_time": "2023-09-23T13:54:42.425888Z",
     "start_time": "2023-09-23T13:54:42.407151Z"
    }
   }
  },
  {
   "cell_type": "code",
   "execution_count": 17,
   "outputs": [],
   "source": [],
   "metadata": {
    "collapsed": false,
    "ExecuteTime": {
     "end_time": "2023-09-23T13:54:42.426029Z",
     "start_time": "2023-09-23T13:54:42.425522Z"
    }
   }
  }
 ],
 "metadata": {
  "kernelspec": {
   "display_name": "Python 3",
   "language": "python",
   "name": "python3"
  },
  "language_info": {
   "codemirror_mode": {
    "name": "ipython",
    "version": 2
   },
   "file_extension": ".py",
   "mimetype": "text/x-python",
   "name": "python",
   "nbconvert_exporter": "python",
   "pygments_lexer": "ipython2",
   "version": "2.7.6"
  }
 },
 "nbformat": 4,
 "nbformat_minor": 0
}
