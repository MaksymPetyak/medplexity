{
 "cells": [
  {
   "cell_type": "markdown",
   "source": [
    "In this notebook we are using OpenAI GPT-4 for evaluation on MMLU dataset"
   ],
   "metadata": {
    "collapsed": false
   }
  },
  {
   "cell_type": "code",
   "execution_count": 1,
   "metadata": {
    "collapsed": true,
    "ExecuteTime": {
     "end_time": "2023-09-25T17:44:28.423680Z",
     "start_time": "2023-09-25T17:44:28.402484Z"
    }
   },
   "outputs": [],
   "source": [
    "%load_ext autoreload\n",
    "%autoreload 2"
   ]
  },
  {
   "cell_type": "code",
   "execution_count": 2,
   "outputs": [],
   "source": [
    "OPENAI_API_KEY = \"\""
   ],
   "metadata": {
    "collapsed": false,
    "ExecuteTime": {
     "end_time": "2023-09-25T17:44:28.426349Z",
     "start_time": "2023-09-25T17:44:28.415496Z"
    }
   }
  },
  {
   "cell_type": "code",
   "execution_count": 3,
   "outputs": [],
   "source": [
    "from medplexity.benchmarks.mmlu.mmlu_dataset_builder import MMLUDatasetBuilder, MMLUSubsetConfig\n",
    "\n",
    "dataset = MMLUDatasetBuilder().build_dataset(config_type=MMLUSubsetConfig.clinical_knowledge, split_type=\"validation\")"
   ],
   "metadata": {
    "collapsed": false,
    "ExecuteTime": {
     "end_time": "2023-09-25T17:44:31.236403Z",
     "start_time": "2023-09-25T17:44:28.424609Z"
    }
   }
  },
  {
   "cell_type": "code",
   "execution_count": 4,
   "outputs": [],
   "source": [
    "example_data_point = next(dataset.__iter__())"
   ],
   "metadata": {
    "collapsed": false,
    "ExecuteTime": {
     "end_time": "2023-09-25T17:44:31.249952Z",
     "start_time": "2023-09-25T17:44:31.237253Z"
    }
   }
  },
  {
   "cell_type": "code",
   "execution_count": 5,
   "outputs": [
    {
     "data": {
      "text/plain": "MMLUDataPoint(input=MMLUInput(question='Mr Wood has just returned from surgery and has severe internal bleeding. Which of the following observations would you NOT expect to find on undertaking post-operative observations?', options=['Hypotension.', 'Bradycardia.', 'Confusion', 'Tachypnoea.']), expected_output='(B)', metadata=None)"
     },
     "execution_count": 5,
     "metadata": {},
     "output_type": "execute_result"
    }
   ],
   "source": [
    "example_data_point"
   ],
   "metadata": {
    "collapsed": false,
    "ExecuteTime": {
     "end_time": "2023-09-25T17:44:31.272266Z",
     "start_time": "2023-09-25T17:44:31.250998Z"
    }
   }
  },
  {
   "cell_type": "code",
   "execution_count": 6,
   "outputs": [],
   "source": [
    "from medplexity.benchmarks.mmlu.mmlu_prompt_template import MMLUPromptTemplate\n",
    "from medplexity.benchmarks.mmlu.mmlu_dataset_builder import MMLUInput\n",
    "\n",
    "def input_adapter(medqa_input: MMLUInput):\n",
    "    prompt_template = MMLUPromptTemplate()\n",
    "\n",
    "    return prompt_template.format(\n",
    "        question=medqa_input.question,\n",
    "        options=medqa_input.options\n",
    "    )"
   ],
   "metadata": {
    "collapsed": false,
    "ExecuteTime": {
     "end_time": "2023-09-25T17:44:31.283415Z",
     "start_time": "2023-09-25T17:44:31.266992Z"
    }
   }
  },
  {
   "cell_type": "code",
   "execution_count": 7,
   "outputs": [
    {
     "name": "stdout",
     "output_type": "stream",
     "text": [
      "The following are multiple choice questions about medical knowledge. Solve them in a step-by-step fashion, starting by summarizing the available information. Output a JSON with the answer (give back only the letter) and an explanation for it.\n",
      "Question: The energy for all forms of muscle contraction is provided by:\n",
      " (A) ATP (B) ADP (C) phosphocreatine (D) oxidative phosphorylation\n",
      "Output: {\"answer\":\"(A)\",\"explanation\":\"The sole fuel for muscle contraction is adenosine triphosphate (ATP). During near maximal intense exercise the muscle store of ATP will be depleted in less than one second. Therefore, to maintain normal contractile function ATP must be continually resynthesized. These pathways include phosphocreatine and muscle glycogen breakdown, thus enabling substrate-level phosphorylation (‘anaerobic’) and oxidative phosphorylation by using reducing equivalents from carbohydrate and fat metabolism (‘aerobic’).\"}\n",
      "\n",
      "\n",
      "Question: Which of the following conditions does not show multifactorial inheritance?\n",
      " (A) Pyloric stenosis (B) Schizophrenia (C) Spina bifida (neural tube defects) (D) Marfan syndrome\n",
      "Output: {\"answer\":\"(D)\",\"explanation\":\"Multifactorial inheritance refers to when a condition is caused by multiple factors, which may be both genetic or environmental. Marfan is an autosomal dominant trait. It is caused by mutations in the FBN1 gene, which encodes a protein called fibrillin-1. Hence, Marfan syndrome is not an example of multifactorial inheritance.\"}\n",
      "\n",
      "\n",
      "Question: What is the embryological origin of the hyoid bone?\n",
      " (A) The first pharyngeal arch (B) The first and second pharyngeal arches (C) The second pharyngeal arch (D) The second and third pharyngeal arches\n",
      "Output: {\"answer\":\"(D)\",\"explanation\":\"In embryology, the pharyngeal arches give rise to anatomical structure in the head and neck. The hyoid bone, a small bone in the midline of the neck anteriorly, is derived from the second and third pharyngeal arches.\"}\n",
      "\n",
      "\n",
      "Question: In a given population, 1 out of every 400 people has a cancer caused by a completely recessive allele, b. Assuming the population is in Hardy-Weinberg equilibrium, which of the following is the expected proportion of individuals who carry the b allele but are not expected to develop the cancer?\n",
      " (A) 1/400 (B) 19/400 (C) 20/400 (D) 38/400\n",
      "Output: {\"answer\":\"(D)\",\"explanation\":\"The expected proportion of individuals who carry the b allele but are not expected to develop the cancer equals to the frequency of heterozygous allele in the given population. According to the Hardy-Weinberg equation p∧2 + 2pq + q∧2 = 1, where p is the frequency of dominant allele frequency, q is the frequency of recessive allele frequency, p∧2 is the frequency of the homozygous dominant allele, q∧2 is the frequency of the recessive allele, and 2pq is the frequency of the heterozygous allele. Given that q∧2=1/400, hence, q=0.05 and p=1-q=0.95. The frequency of the heterozygous allele is 2pq=2*0.05*0.95=38/400.\"}\n",
      "\n",
      "\n",
      "Question: A high school science teacher fills a 1 liter bottle with pure nitrogen and seals the lid. The pressure is 1.70 atm, and the room temperature is 25◦C. Which two variables will both increase the pressure of the system, if all other variables are held constant?\n",
      " (A) Decreasing volume, decreasing temperature (B) Increasing temperature, increasing volume (C) Increasing temperature, increasing moles of gas (D) Decreasing moles of gas, increasing volume\n",
      "Output: {\"answer\":\"(C)\",\"explanation\":\"According to the ideal gas law, PV = nRT (P = pressure, V = volume, n = number of moles, R = gas constant, T = temperature). Hence, increasing both temperature (T) and moles of gas (n), while other variables stay constant, will indeed increase the pressure of the system.\"}\n",
      "\n",
      "\n",
      "Question: A 22-year-old male marathon runner presents to the office with the complaint of right-sided rib pain when he runs long distances. Physical examination reveals normal heart and lung findings and an exhalation dysfunction at ribs 4-5 on the right. Which of the following muscles or muscle groups will be most useful in correcting this dysfunction utilizing a direct method?\n",
      " (A) anterior scalene (B) latissimus dorsi (C) pectoralis minor (D) quadratus lumborum\n",
      "Output: {\"answer\":\"(C)\",\"explanation\":\"All of the muscles have an insertion on the rib cage; however only one has an insertion at ribs 4-5 and could be responsible for right-sided rib pain: pectoralis minor. Pectoralis minor inserts to the costal cartilage of the anterior third to fifth ribs.\"}\n",
      "\n",
      "\n",
      "Question: Mr Wood has just returned from surgery and has severe internal bleeding. Which of the following observations would you NOT expect to find on undertaking post-operative observations?\n",
      "(A) Hypotension. (B) Bradycardia. (C) Confusion (D) Tachypnoea.\n",
      "Output: \n"
     ]
    }
   ],
   "source": [
    "print(input_adapter(example_data_point.input))"
   ],
   "metadata": {
    "collapsed": false,
    "ExecuteTime": {
     "end_time": "2023-09-25T17:44:31.300062Z",
     "start_time": "2023-09-25T17:44:31.283867Z"
    }
   }
  },
  {
   "cell_type": "code",
   "execution_count": 8,
   "outputs": [],
   "source": [
    "from medplexity.benchmarks.multiple_choice_utils import AnswerWithExplanation\n",
    "\n",
    "\n",
    "def output_adapter(output_json: str) -> AnswerWithExplanation:\n",
    "    parsed_output = AnswerWithExplanation.model_validate_json(output_json)\n",
    "\n",
    "    return parsed_output"
   ],
   "metadata": {
    "collapsed": false,
    "ExecuteTime": {
     "end_time": "2023-09-25T17:44:31.322509Z",
     "start_time": "2023-09-25T17:44:31.299211Z"
    }
   }
  },
  {
   "cell_type": "code",
   "execution_count": 9,
   "outputs": [],
   "source": [
    "from medplexity.llms.openai_caller import OpenAI\n",
    "from medplexity.chains.evaluation_adapter_chain import EvaluationAdapterChain\n",
    "\n",
    "chain = EvaluationAdapterChain(\n",
    "    llm=OpenAI(\n",
    "        api_token=OPENAI_API_KEY\n",
    "    ),\n",
    "    input_adapter=input_adapter,\n",
    "    output_adapter=output_adapter,\n",
    ")"
   ],
   "metadata": {
    "collapsed": false,
    "ExecuteTime": {
     "end_time": "2023-09-25T17:44:31.338994Z",
     "start_time": "2023-09-25T17:44:31.311816Z"
    }
   }
  },
  {
   "cell_type": "code",
   "execution_count": 10,
   "outputs": [],
   "source": [
    "def comparator(expected_output: str, predicted_output: AnswerWithExplanation):\n",
    "\n",
    "    return expected_output == predicted_output.answer"
   ],
   "metadata": {
    "collapsed": false,
    "ExecuteTime": {
     "end_time": "2023-09-25T17:44:31.356449Z",
     "start_time": "2023-09-25T17:44:31.335650Z"
    }
   }
  },
  {
   "cell_type": "code",
   "execution_count": 11,
   "outputs": [],
   "source": [
    "from medplexity.evaluators.sequential_evaluator import SequentialEvaluator\n",
    "\n",
    "evaluator = SequentialEvaluator(\n",
    "    chain=chain,\n",
    "    comparator=comparator\n",
    ")"
   ],
   "metadata": {
    "collapsed": false,
    "ExecuteTime": {
     "end_time": "2023-09-25T17:44:31.367030Z",
     "start_time": "2023-09-25T17:44:31.349814Z"
    }
   }
  },
  {
   "cell_type": "code",
   "execution_count": 12,
   "outputs": [
    {
     "data": {
      "text/plain": "MMLUInput(question='Mr Wood has just returned from surgery and has severe internal bleeding. Which of the following observations would you NOT expect to find on undertaking post-operative observations?', options=['Hypotension.', 'Bradycardia.', 'Confusion', 'Tachypnoea.'])"
     },
     "execution_count": 12,
     "metadata": {},
     "output_type": "execute_result"
    }
   ],
   "source": [
    "dataset[0].input"
   ],
   "metadata": {
    "collapsed": false,
    "ExecuteTime": {
     "end_time": "2023-09-25T17:44:31.382900Z",
     "start_time": "2023-09-25T17:44:31.367308Z"
    }
   }
  },
  {
   "cell_type": "code",
   "execution_count": 13,
   "outputs": [
    {
     "name": "stderr",
     "output_type": "stream",
     "text": [
      "100%|██████████| 1/1 [00:04<00:00,  4.99s/it]\n"
     ]
    }
   ],
   "source": [
    "evaluation = evaluator.evaluate(dataset[0:1])"
   ],
   "metadata": {
    "collapsed": false,
    "ExecuteTime": {
     "end_time": "2023-09-25T17:44:36.402295Z",
     "start_time": "2023-09-25T17:44:31.380645Z"
    }
   }
  },
  {
   "cell_type": "code",
   "execution_count": 14,
   "outputs": [
    {
     "data": {
      "text/plain": "1.0"
     },
     "execution_count": 14,
     "metadata": {},
     "output_type": "execute_result"
    }
   ],
   "source": [
    "evaluation.accuracy()"
   ],
   "metadata": {
    "collapsed": false,
    "ExecuteTime": {
     "end_time": "2023-09-25T17:44:36.429962Z",
     "start_time": "2023-09-25T17:44:36.402533Z"
    }
   }
  },
  {
   "cell_type": "code",
   "execution_count": 15,
   "outputs": [],
   "source": [
    "correct, incorrect = evaluation.partition_by_correctness()"
   ],
   "metadata": {
    "collapsed": false,
    "ExecuteTime": {
     "end_time": "2023-09-25T17:44:36.440131Z",
     "start_time": "2023-09-25T17:44:36.423699Z"
    }
   }
  },
  {
   "cell_type": "code",
   "execution_count": 16,
   "outputs": [
    {
     "data": {
      "text/plain": "[EvaluationResult(input=MMLUInput(question='Mr Wood has just returned from surgery and has severe internal bleeding. Which of the following observations would you NOT expect to find on undertaking post-operative observations?', options=['Hypotension.', 'Bradycardia.', 'Confusion', 'Tachypnoea.']), input_metadata=None, expected_output='(B)', output=AnswerWithExplanation(answer='(B)', explanation='Severe internal bleeding is likely to cause hypotension (low blood pressure), tachycardia (rapid heart rate), and tachypnea (rapid breathing) as compensatory mechanisms to maintain perfusion. Confusion may also be present due to decreased cerebral perfusion. Bradycardia (slow heart rate) would not be expected in this situation, as the body would try to increase heart rate to compensate for the decreased blood volume.'), correct=True)]"
     },
     "execution_count": 16,
     "metadata": {},
     "output_type": "execute_result"
    }
   ],
   "source": [
    "correct"
   ],
   "metadata": {
    "collapsed": false,
    "ExecuteTime": {
     "end_time": "2023-09-25T17:44:36.476407Z",
     "start_time": "2023-09-25T17:44:36.439845Z"
    }
   }
  },
  {
   "cell_type": "code",
   "execution_count": 17,
   "outputs": [
    {
     "data": {
      "text/plain": "[]"
     },
     "execution_count": 17,
     "metadata": {},
     "output_type": "execute_result"
    }
   ],
   "source": [
    "incorrect"
   ],
   "metadata": {
    "collapsed": false,
    "ExecuteTime": {
     "end_time": "2023-09-25T17:44:36.476766Z",
     "start_time": "2023-09-25T17:44:36.454923Z"
    }
   }
  },
  {
   "cell_type": "code",
   "execution_count": 17,
   "outputs": [],
   "source": [],
   "metadata": {
    "collapsed": false,
    "ExecuteTime": {
     "end_time": "2023-09-25T17:44:36.476808Z",
     "start_time": "2023-09-25T17:44:36.468856Z"
    }
   }
  }
 ],
 "metadata": {
  "kernelspec": {
   "display_name": "Python 3",
   "language": "python",
   "name": "python3"
  },
  "language_info": {
   "codemirror_mode": {
    "name": "ipython",
    "version": 2
   },
   "file_extension": ".py",
   "mimetype": "text/x-python",
   "name": "python",
   "nbconvert_exporter": "python",
   "pygments_lexer": "ipython2",
   "version": "2.7.6"
  }
 },
 "nbformat": 4,
 "nbformat_minor": 0
}
