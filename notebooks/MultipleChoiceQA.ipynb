{
 "cells": [
  {
   "cell_type": "markdown",
   "source": [
    "In this notebook we show how to run evaluations on different multiple-choice question dataset."
   ],
   "metadata": {
    "collapsed": false
   }
  },
  {
   "cell_type": "code",
   "execution_count": 1,
   "outputs": [],
   "source": [
    "%load_ext autoreload\n",
    "%autoreload 2"
   ],
   "metadata": {
    "collapsed": false,
    "ExecuteTime": {
     "end_time": "2023-11-09T10:15:28.644699Z",
     "start_time": "2023-11-09T10:15:28.615679Z"
    }
   }
  },
  {
   "cell_type": "code",
   "execution_count": 2,
   "outputs": [],
   "source": [
    "# Parameters for evaluation\n",
    "MODEL = \"gpt-4\"\n",
    "DATASET = \"medmcqa\"\n",
    "SPLIT_TYPE=\"validation\"\n",
    "EVALUATION_FILE_PATH = \"medmcqa-gpt-4-validation\""
   ],
   "metadata": {
    "collapsed": false,
    "ExecuteTime": {
     "end_time": "2023-11-09T10:15:28.644846Z",
     "start_time": "2023-11-09T10:15:28.632245Z"
    }
   }
  },
  {
   "cell_type": "markdown",
   "source": [
    "Create harness with the specified parameters. Make sure to pass the API token for your LLM."
   ],
   "metadata": {
    "collapsed": false
   }
  },
  {
   "cell_type": "code",
   "execution_count": 3,
   "outputs": [],
   "source": [
    "from medplexity.llms.openai_caller import OpenAI\n",
    "from medplexity.benchmarks.multiple_choice_utils import load_example_questions_from_json\n",
    "from medplexity.benchmarks.medmcqa import MedMCQADatasetBuilder\n",
    "from medplexity.chains.multiple_choice_question_chain import MultipleChoiceEvaluationChain\n",
    "from medplexity.prompts.medical_assistant_prompt_template import MedicalAssistantPromptTemplate\n",
    "from medplexity.benchmarks.dataset_factory import DatasetFactory\n",
    "from medplexity.medharness import Medharness\n",
    "\n",
    "harness = Medharness(\n",
    "    dataset=DatasetFactory().build(DATASET, SPLIT_TYPE),\n",
    "    chain=MultipleChoiceEvaluationChain(\n",
    "        llm=OpenAI(\n",
    "            model=MODEL,\n",
    "            api_token=\"\",\n",
    "            temperature=0,\n",
    "        ),\n",
    "        examples=load_example_questions_from_json(MedMCQADatasetBuilder().EXAMPLE_QUESTIONS_PATH),\n",
    "        save_prompt=True\n",
    "    ),\n",
    ")"
   ],
   "metadata": {
    "collapsed": false,
    "ExecuteTime": {
     "end_time": "2023-11-09T10:15:31.716068Z",
     "start_time": "2023-11-09T10:15:28.636130Z"
    }
   }
  },
  {
   "cell_type": "code",
   "execution_count": 4,
   "outputs": [
    {
     "name": "stderr",
     "output_type": "stream",
     "text": [
      "100%|██████████| 2/2 [00:48<00:00, 24.11s/it]\n"
     ]
    },
    {
     "data": {
      "text/plain": "EvaluationSummary(evaluation_results=[{\n    \"input\": {\n        \"question\": \"Which of the following is not true for myelinated nerve fibers:\",\n        \"options\": [\n            \"Impulse through myelinated fibers is slower than non-myelinated fibers\",\n            \"Membrane currents are generated at nodes of Ranvier\",\n            \"Saltatory conduction of impulses is seen\",\n            \"Local anesthesia is effective only when the nerve is not covered by myelin sheath\"\n        ],\n        \"context\": null,\n        \"examples\": null\n    },\n    \"input_metadata\": {\n        \"explanation\": null,\n        \"subject_name\": \"Physiology\"\n    },\n    \"expected_output\": \"(A)\",\n    \"output\": \"(A)\",\n    \"output_metadata\": {\n        \"explanation\": \"Let’s solve this step-by-step, referring to authoritative sources as needed. Myelinated nerve fibers are covered by a myelin sheath, which allows for faster transmission of nerve impulses compared to non-myelinated fibers. This is due to the fact that the impulse \\\"jumps\\\" from one node of Ranvier to the next, a process known as saltatory conduction. Local anesthesia can be effective on both myelinated and non-myelinated nerves. Therefore, the statement that is not true for myelinated nerve fibers is that impulse through myelinated fibers is slower than non-myelinated fibers.\",\n        \"prompt\": \"Instructions: The following are multiple choice questions about medical knowledge. Solve them in a step-by-step fashion,\\nstarting by summarizing the available information. Output a single option from the given options as the final answer.\\nNone\\nQuestion: Maximum increase in prolactin level is caused by:\\n(A) Risperidone (B) Clozapine (C) Olanzapine (D) Aripiprazole\\nExplanation: Let’s solve this step-by-step, referring to authoritative sources as needed. Clozapine generally does not raise prolactin levels. Atypicals such as olanzapine and aripiprazole cause small if no elevation. Risperidone is known to result in a sustained elevated prolactin level. Therefore risperidone is likely to cause the maximum increase in prolactin level.\\nAnswer: (A)\\nNone\\nQuestion: What is the age of routine screening mammography?\\n(A) 20 years (B) 30 years (C) 40 years (D) 50 years\\nExplanation: Let’s solve this step-by-step, referring to authoritative sources as needed. The age of routine screening depends on the country you are interested in and varies widely. For the US, it is 40 years of age according to the American Cancer Society. In Europe, it is typically closer to 50 years. For a patient based in the US, the best answer is 40 years.\\nAnswer: (C)\\nNone\\nQuestion: A 65-year-old male complains of severe back pain and inability to move his left lower limb. Radiographic studies demonstrate the compression of nerve elements at the intervertebral foramen between vertebrae L5 and S1. Which structure is most likely responsible for this space-occupying lesion?\\n(A) Anulus fibrosus (B) Nucleus pulposus (C) Posterior longitudinal ligament (D) Anterior longitudinal ligament\\nExplanation: Let’s solve this step-by-step, referring to authoritative sources as needed. This man describes a herniated invertebral disk through a tear in the surrounding annulus fibrosus. The soft, gelatinous \\\"nucleus pulposus\\\" is forced out through a weakened part of the disk, resulting in back pain and nerve root irritation. In this case, the impingement is resulting in paralysis, and should be considered a medical emergency. Overall, the structure that is causing the compression and symptoms is the nucleus pulposus.\\nAnswer: (B)\\nNone\\nQuestion: Neuroendocrine cells in the lungs are:\\n(A) Dendritic cells (B) Type I pneumocytes (C) Type II pneumocytes (D) APUD cells\\nExplanation: Let’s solve this step-by-step, referring to authoritative sources as needed. Neuroendocrine cells, which are also known as Kultschitsky-type cells, Feyrter cells and APUD cells, are found in the basal layer of the surface epithelium and in the bronchial glands.\\nAnswer: (D)\\nNone\\nQuestion: Presence of it indicates remote contamination of water\\n(A) Streptococci (B) Staphalococci (C) Clastridium pertringes (D) Nibrio\\nExplanation: Let’s solve this step-by-step, referring to authoritative sources as needed. Because Clostridium perfringens spores are both specific to sewage contamination and environmentally stable, they are considered as possible conservative indicators of human fecal contamination and possible surrogates for environmentally stable pathogens.\\nAnswer: (C)\\n\\nQuestion: Which of the following is not true for myelinated nerve fibers:\\n(A) Impulse through myelinated fibers is slower than non-myelinated fibers (B) Membrane currents are generated at nodes of Ranvier (C) Saltatory conduction of impulses is seen (D) Local anesthesia is effective only when the nerve is not covered by myelin sheath\\n\"\n    },\n    \"correct\": true\n}, {\n    \"input\": {\n        \"question\": \"Which of the following is not true about glomerular capillaries')\",\n        \"options\": [\n            \"The oncotic pressure of the fluid leaving the capillaries is less than that of fluid entering it\",\n            \"Glucose concentration in the capillaries is the same as that in glomerular filtrate\",\n            \"Constriction of afferent aeriole decreases the blood flow to the glomerulas\",\n            \"Hematocrit of the fluid leaving the capillaries is less than that of the fluid entering it\"\n        ],\n        \"context\": null,\n        \"examples\": null\n    },\n    \"input_metadata\": {\n        \"explanation\": \"Ans-a. The oncotic pressure of the fluid leaving the capillaries is less than that of fluid entering it Guyton I LpJ1 4-.;anong 23/e p653-6_)Glomerular oncotic pressure (due to plasma protein content) is higher than that of filtrate oncotic pressure in Bowman's capsule\\\"Since glucose is freely filtered and the fluid in the Bowman's capsule is isotonic with plasma, the concentration of glucose in the filtrate is the same as in the capillaries\",\n        \"subject_name\": \"Physiology\"\n    },\n    \"expected_output\": \"(A)\",\n    \"output\": \"(A)\",\n    \"output_metadata\": {\n        \"explanation\": \"Let’s solve this step-by-step, referring to authoritative sources as needed. The oncotic pressure of the fluid leaving the capillaries is greater than that of the fluid entering it due to the filtration of water and small solutes out of the blood, leaving behind the larger proteins. Glucose concentration in the capillaries is indeed the same as that in glomerular filtrate because glucose is freely filtered at the glomerulus. Constriction of afferent arteriole does decrease the blood flow to the glomerulus. Hematocrit of the fluid leaving the capillaries is less than that of the fluid entering it because red blood cells are not filtered into the glomerular filtrate. Therefore, the statement that is not true about glomerular capillaries is that the oncotic pressure of the fluid leaving the capillaries is less than that of fluid entering it.\",\n        \"prompt\": \"Instructions: The following are multiple choice questions about medical knowledge. Solve them in a step-by-step fashion,\\nstarting by summarizing the available information. Output a single option from the given options as the final answer.\\nNone\\nQuestion: Maximum increase in prolactin level is caused by:\\n(A) Risperidone (B) Clozapine (C) Olanzapine (D) Aripiprazole\\nExplanation: Let’s solve this step-by-step, referring to authoritative sources as needed. Clozapine generally does not raise prolactin levels. Atypicals such as olanzapine and aripiprazole cause small if no elevation. Risperidone is known to result in a sustained elevated prolactin level. Therefore risperidone is likely to cause the maximum increase in prolactin level.\\nAnswer: (A)\\nNone\\nQuestion: What is the age of routine screening mammography?\\n(A) 20 years (B) 30 years (C) 40 years (D) 50 years\\nExplanation: Let’s solve this step-by-step, referring to authoritative sources as needed. The age of routine screening depends on the country you are interested in and varies widely. For the US, it is 40 years of age according to the American Cancer Society. In Europe, it is typically closer to 50 years. For a patient based in the US, the best answer is 40 years.\\nAnswer: (C)\\nNone\\nQuestion: A 65-year-old male complains of severe back pain and inability to move his left lower limb. Radiographic studies demonstrate the compression of nerve elements at the intervertebral foramen between vertebrae L5 and S1. Which structure is most likely responsible for this space-occupying lesion?\\n(A) Anulus fibrosus (B) Nucleus pulposus (C) Posterior longitudinal ligament (D) Anterior longitudinal ligament\\nExplanation: Let’s solve this step-by-step, referring to authoritative sources as needed. This man describes a herniated invertebral disk through a tear in the surrounding annulus fibrosus. The soft, gelatinous \\\"nucleus pulposus\\\" is forced out through a weakened part of the disk, resulting in back pain and nerve root irritation. In this case, the impingement is resulting in paralysis, and should be considered a medical emergency. Overall, the structure that is causing the compression and symptoms is the nucleus pulposus.\\nAnswer: (B)\\nNone\\nQuestion: Neuroendocrine cells in the lungs are:\\n(A) Dendritic cells (B) Type I pneumocytes (C) Type II pneumocytes (D) APUD cells\\nExplanation: Let’s solve this step-by-step, referring to authoritative sources as needed. Neuroendocrine cells, which are also known as Kultschitsky-type cells, Feyrter cells and APUD cells, are found in the basal layer of the surface epithelium and in the bronchial glands.\\nAnswer: (D)\\nNone\\nQuestion: Presence of it indicates remote contamination of water\\n(A) Streptococci (B) Staphalococci (C) Clastridium pertringes (D) Nibrio\\nExplanation: Let’s solve this step-by-step, referring to authoritative sources as needed. Because Clostridium perfringens spores are both specific to sewage contamination and environmentally stable, they are considered as possible conservative indicators of human fecal contamination and possible surrogates for environmentally stable pathogens.\\nAnswer: (C)\\n\\nQuestion: Which of the following is not true about glomerular capillaries')\\n(A) The oncotic pressure of the fluid leaving the capillaries is less than that of fluid entering it (B) Glucose concentration in the capillaries is the same as that in glomerular filtrate (C) Constriction of afferent aeriole decreases the blood flow to the glomerulas (D) Hematocrit of the fluid leaving the capillaries is less than that of the fluid entering it\\n\"\n    },\n    \"correct\": true\n}], failed_evaluations=[])"
     },
     "execution_count": 4,
     "metadata": {},
     "output_type": "execute_result"
    }
   ],
   "source": [
    "harness.run(k=2, ignore_errors=True)"
   ],
   "metadata": {
    "collapsed": false,
    "ExecuteTime": {
     "end_time": "2023-11-09T10:16:19.963484Z",
     "start_time": "2023-11-09T10:15:31.716381Z"
    }
   }
  },
  {
   "cell_type": "code",
   "execution_count": 5,
   "outputs": [
    {
     "data": {
      "text/plain": "EvaluationSummary(evaluation_results=[{\n    \"input\": {\n        \"question\": \"Which of the following is not true for myelinated nerve fibers:\",\n        \"options\": [\n            \"Impulse through myelinated fibers is slower than non-myelinated fibers\",\n            \"Membrane currents are generated at nodes of Ranvier\",\n            \"Saltatory conduction of impulses is seen\",\n            \"Local anesthesia is effective only when the nerve is not covered by myelin sheath\"\n        ],\n        \"context\": null,\n        \"examples\": null\n    },\n    \"input_metadata\": {\n        \"explanation\": null,\n        \"subject_name\": \"Physiology\"\n    },\n    \"expected_output\": \"(A)\",\n    \"output\": \"(A)\",\n    \"output_metadata\": {\n        \"explanation\": \"Let’s solve this step-by-step, referring to authoritative sources as needed. Myelinated nerve fibers are covered by a myelin sheath, which allows for faster transmission of nerve impulses compared to non-myelinated fibers. This is due to the fact that the impulse \\\"jumps\\\" from one node of Ranvier to the next, a process known as saltatory conduction. Local anesthesia can be effective on both myelinated and non-myelinated nerves. Therefore, the statement that is not true for myelinated nerve fibers is that impulse through myelinated fibers is slower than non-myelinated fibers.\",\n        \"prompt\": \"Instructions: The following are multiple choice questions about medical knowledge. Solve them in a step-by-step fashion,\\nstarting by summarizing the available information. Output a single option from the given options as the final answer.\\nNone\\nQuestion: Maximum increase in prolactin level is caused by:\\n(A) Risperidone (B) Clozapine (C) Olanzapine (D) Aripiprazole\\nExplanation: Let’s solve this step-by-step, referring to authoritative sources as needed. Clozapine generally does not raise prolactin levels. Atypicals such as olanzapine and aripiprazole cause small if no elevation. Risperidone is known to result in a sustained elevated prolactin level. Therefore risperidone is likely to cause the maximum increase in prolactin level.\\nAnswer: (A)\\nNone\\nQuestion: What is the age of routine screening mammography?\\n(A) 20 years (B) 30 years (C) 40 years (D) 50 years\\nExplanation: Let’s solve this step-by-step, referring to authoritative sources as needed. The age of routine screening depends on the country you are interested in and varies widely. For the US, it is 40 years of age according to the American Cancer Society. In Europe, it is typically closer to 50 years. For a patient based in the US, the best answer is 40 years.\\nAnswer: (C)\\nNone\\nQuestion: A 65-year-old male complains of severe back pain and inability to move his left lower limb. Radiographic studies demonstrate the compression of nerve elements at the intervertebral foramen between vertebrae L5 and S1. Which structure is most likely responsible for this space-occupying lesion?\\n(A) Anulus fibrosus (B) Nucleus pulposus (C) Posterior longitudinal ligament (D) Anterior longitudinal ligament\\nExplanation: Let’s solve this step-by-step, referring to authoritative sources as needed. This man describes a herniated invertebral disk through a tear in the surrounding annulus fibrosus. The soft, gelatinous \\\"nucleus pulposus\\\" is forced out through a weakened part of the disk, resulting in back pain and nerve root irritation. In this case, the impingement is resulting in paralysis, and should be considered a medical emergency. Overall, the structure that is causing the compression and symptoms is the nucleus pulposus.\\nAnswer: (B)\\nNone\\nQuestion: Neuroendocrine cells in the lungs are:\\n(A) Dendritic cells (B) Type I pneumocytes (C) Type II pneumocytes (D) APUD cells\\nExplanation: Let’s solve this step-by-step, referring to authoritative sources as needed. Neuroendocrine cells, which are also known as Kultschitsky-type cells, Feyrter cells and APUD cells, are found in the basal layer of the surface epithelium and in the bronchial glands.\\nAnswer: (D)\\nNone\\nQuestion: Presence of it indicates remote contamination of water\\n(A) Streptococci (B) Staphalococci (C) Clastridium pertringes (D) Nibrio\\nExplanation: Let’s solve this step-by-step, referring to authoritative sources as needed. Because Clostridium perfringens spores are both specific to sewage contamination and environmentally stable, they are considered as possible conservative indicators of human fecal contamination and possible surrogates for environmentally stable pathogens.\\nAnswer: (C)\\n\\nQuestion: Which of the following is not true for myelinated nerve fibers:\\n(A) Impulse through myelinated fibers is slower than non-myelinated fibers (B) Membrane currents are generated at nodes of Ranvier (C) Saltatory conduction of impulses is seen (D) Local anesthesia is effective only when the nerve is not covered by myelin sheath\\n\"\n    },\n    \"correct\": true\n}, {\n    \"input\": {\n        \"question\": \"Which of the following is not true about glomerular capillaries')\",\n        \"options\": [\n            \"The oncotic pressure of the fluid leaving the capillaries is less than that of fluid entering it\",\n            \"Glucose concentration in the capillaries is the same as that in glomerular filtrate\",\n            \"Constriction of afferent aeriole decreases the blood flow to the glomerulas\",\n            \"Hematocrit of the fluid leaving the capillaries is less than that of the fluid entering it\"\n        ],\n        \"context\": null,\n        \"examples\": null\n    },\n    \"input_metadata\": {\n        \"explanation\": \"Ans-a. The oncotic pressure of the fluid leaving the capillaries is less than that of fluid entering it Guyton I LpJ1 4-.;anong 23/e p653-6_)Glomerular oncotic pressure (due to plasma protein content) is higher than that of filtrate oncotic pressure in Bowman's capsule\\\"Since glucose is freely filtered and the fluid in the Bowman's capsule is isotonic with plasma, the concentration of glucose in the filtrate is the same as in the capillaries\",\n        \"subject_name\": \"Physiology\"\n    },\n    \"expected_output\": \"(A)\",\n    \"output\": \"(A)\",\n    \"output_metadata\": {\n        \"explanation\": \"Let’s solve this step-by-step, referring to authoritative sources as needed. The oncotic pressure of the fluid leaving the capillaries is greater than that of the fluid entering it due to the filtration of water and small solutes out of the blood, leaving behind the larger proteins. Glucose concentration in the capillaries is indeed the same as that in glomerular filtrate because glucose is freely filtered at the glomerulus. Constriction of afferent arteriole does decrease the blood flow to the glomerulus. Hematocrit of the fluid leaving the capillaries is less than that of the fluid entering it because red blood cells are not filtered into the glomerular filtrate. Therefore, the statement that is not true about glomerular capillaries is that the oncotic pressure of the fluid leaving the capillaries is less than that of fluid entering it.\",\n        \"prompt\": \"Instructions: The following are multiple choice questions about medical knowledge. Solve them in a step-by-step fashion,\\nstarting by summarizing the available information. Output a single option from the given options as the final answer.\\nNone\\nQuestion: Maximum increase in prolactin level is caused by:\\n(A) Risperidone (B) Clozapine (C) Olanzapine (D) Aripiprazole\\nExplanation: Let’s solve this step-by-step, referring to authoritative sources as needed. Clozapine generally does not raise prolactin levels. Atypicals such as olanzapine and aripiprazole cause small if no elevation. Risperidone is known to result in a sustained elevated prolactin level. Therefore risperidone is likely to cause the maximum increase in prolactin level.\\nAnswer: (A)\\nNone\\nQuestion: What is the age of routine screening mammography?\\n(A) 20 years (B) 30 years (C) 40 years (D) 50 years\\nExplanation: Let’s solve this step-by-step, referring to authoritative sources as needed. The age of routine screening depends on the country you are interested in and varies widely. For the US, it is 40 years of age according to the American Cancer Society. In Europe, it is typically closer to 50 years. For a patient based in the US, the best answer is 40 years.\\nAnswer: (C)\\nNone\\nQuestion: A 65-year-old male complains of severe back pain and inability to move his left lower limb. Radiographic studies demonstrate the compression of nerve elements at the intervertebral foramen between vertebrae L5 and S1. Which structure is most likely responsible for this space-occupying lesion?\\n(A) Anulus fibrosus (B) Nucleus pulposus (C) Posterior longitudinal ligament (D) Anterior longitudinal ligament\\nExplanation: Let’s solve this step-by-step, referring to authoritative sources as needed. This man describes a herniated invertebral disk through a tear in the surrounding annulus fibrosus. The soft, gelatinous \\\"nucleus pulposus\\\" is forced out through a weakened part of the disk, resulting in back pain and nerve root irritation. In this case, the impingement is resulting in paralysis, and should be considered a medical emergency. Overall, the structure that is causing the compression and symptoms is the nucleus pulposus.\\nAnswer: (B)\\nNone\\nQuestion: Neuroendocrine cells in the lungs are:\\n(A) Dendritic cells (B) Type I pneumocytes (C) Type II pneumocytes (D) APUD cells\\nExplanation: Let’s solve this step-by-step, referring to authoritative sources as needed. Neuroendocrine cells, which are also known as Kultschitsky-type cells, Feyrter cells and APUD cells, are found in the basal layer of the surface epithelium and in the bronchial glands.\\nAnswer: (D)\\nNone\\nQuestion: Presence of it indicates remote contamination of water\\n(A) Streptococci (B) Staphalococci (C) Clastridium pertringes (D) Nibrio\\nExplanation: Let’s solve this step-by-step, referring to authoritative sources as needed. Because Clostridium perfringens spores are both specific to sewage contamination and environmentally stable, they are considered as possible conservative indicators of human fecal contamination and possible surrogates for environmentally stable pathogens.\\nAnswer: (C)\\n\\nQuestion: Which of the following is not true about glomerular capillaries')\\n(A) The oncotic pressure of the fluid leaving the capillaries is less than that of fluid entering it (B) Glucose concentration in the capillaries is the same as that in glomerular filtrate (C) Constriction of afferent aeriole decreases the blood flow to the glomerulas (D) Hematocrit of the fluid leaving the capillaries is less than that of the fluid entering it\\n\"\n    },\n    \"correct\": true\n}], failed_evaluations=[])"
     },
     "execution_count": 5,
     "metadata": {},
     "output_type": "execute_result"
    }
   ],
   "source": [
    "harness.result"
   ],
   "metadata": {
    "collapsed": false,
    "ExecuteTime": {
     "end_time": "2023-11-09T10:16:20.003679Z",
     "start_time": "2023-11-09T10:16:19.964268Z"
    }
   }
  },
  {
   "cell_type": "markdown",
   "source": [
    "We can export the results of evaluation for the visualiser."
   ],
   "metadata": {
    "collapsed": false
   }
  },
  {
   "cell_type": "code",
   "execution_count": 6,
   "outputs": [],
   "source": [
    "from datetime import datetime\n",
    "\n",
    "harness.save_results(\n",
    "    EVALUATION_FILE_PATH,\n",
    "    additional_data={\n",
    "        \"prompt_template\": MedicalAssistantPromptTemplate.PROMPT,\n",
    "        \"date\": datetime.now().date().strftime(\"%d-%m-%Y\"),\n",
    "    }\n",
    ")"
   ],
   "metadata": {
    "collapsed": false,
    "ExecuteTime": {
     "end_time": "2023-11-09T10:16:20.004278Z",
     "start_time": "2023-11-09T10:16:19.985792Z"
    }
   }
  }
 ],
 "metadata": {
  "kernelspec": {
   "display_name": "Python 3",
   "language": "python",
   "name": "python3"
  },
  "language_info": {
   "codemirror_mode": {
    "name": "ipython",
    "version": 2
   },
   "file_extension": ".py",
   "mimetype": "text/x-python",
   "name": "python",
   "nbconvert_exporter": "python",
   "pygments_lexer": "ipython2",
   "version": "2.7.6"
  }
 },
 "nbformat": 4,
 "nbformat_minor": 0
}
