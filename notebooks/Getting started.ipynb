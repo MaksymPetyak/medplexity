{
 "cells": [
  {
   "cell_type": "markdown",
   "source": [
    "## Medplexity\n",
    "Medplexity is a framework to help explore capabilities of LLMs in the medical domain. We do this by providing interfaces and collections of common benchmarks, LLMs, and prompts. In this tutorial we will go over the main features of medplexity by running OpenAI's GPT-4 model against MedMCQA dataset.\n"
   ],
   "metadata": {
    "collapsed": false
   }
  },
  {
   "cell_type": "markdown",
   "source": [
    "## Setup\n",
    "Let's start by installing the latest version of medplexity if you haven't already:\n"
   ],
   "metadata": {
    "collapsed": false
   }
  },
  {
   "cell_type": "code",
   "execution_count": 1,
   "outputs": [],
   "source": [
    "# !pip install medplexity"
   ],
   "metadata": {
    "collapsed": false,
    "ExecuteTime": {
     "end_time": "2023-10-10T21:28:07.296820Z",
     "start_time": "2023-10-10T21:28:07.242985Z"
    }
   }
  },
  {
   "cell_type": "markdown",
   "source": [
    "## Medharness\n",
    "The top-level abstraction in medplexity is the _Medharness_. It allows to run the evaluation of the given chain on a dataset. This will seem a bit overwhelming, but we will deep dive into every single underlying component of medharness in a bit, but let's start by looking at our end result, which generates example cases of the multiple-choice benchmark MedMCQA and solves them with OpenAI's GPT-4"
   ],
   "metadata": {
    "collapsed": false
   }
  },
  {
   "cell_type": "code",
   "execution_count": 2,
   "outputs": [],
   "source": [
    "from medplexity.medharness import Medharness\n",
    "from medplexity.llms.openai_caller import OpenAI\n",
    "from medplexity.chains.multiple_choice_question_chain import \\\n",
    "    MultipleChoiceEvaluationChain\n",
    "from medplexity.benchmarks.dataset_factory import DatasetFactory\n",
    "from medplexity.benchmarks.medmcqa import MedMCQADatasetBuilder\n",
    "from medplexity.benchmarks.multiple_choice_utils import load_example_questions_from_json\n",
    "\n",
    "harness = Medharness(\n",
    "    dataset=DatasetFactory().build(\"medmcqa\", \"validation\"),\n",
    "    chain=MultipleChoiceEvaluationChain(\n",
    "        llm=OpenAI(model=\"gpt-4\", api_token=\"YOUR_TOKEN\"),\n",
    "        save_prompt=True,\n",
    "        # Providing some additional examples for the prompt\n",
    "        examples=load_example_questions_from_json(MedMCQADatasetBuilder.EXAMPLE_QUESTIONS_PATH)\n",
    "    ),\n",
    ")"
   ],
   "metadata": {
    "collapsed": false,
    "ExecuteTime": {
     "end_time": "2023-10-10T21:28:10.694677Z",
     "start_time": "2023-10-10T21:28:07.250589Z"
    }
   }
  },
  {
   "cell_type": "code",
   "execution_count": 3,
   "outputs": [
    {
     "name": "stderr",
     "output_type": "stream",
     "text": [
      "100%|██████████| 1/1 [00:11<00:00, 11.87s/it]"
     ]
    },
    {
     "name": "stdout",
     "output_type": "stream",
     "text": [
      "Accuracy:  1.0\n"
     ]
    },
    {
     "name": "stderr",
     "output_type": "stream",
     "text": [
      "\n"
     ]
    },
    {
     "data": {
      "text/plain": "EvaluationSummary(evaluation_results=[{\n    \"input\": {\n        \"question\": \"Which of the following is not true for myelinated nerve fibers:\",\n        \"options\": [\n            \"Impulse through myelinated fibers is slower than non-myelinated fibers\",\n            \"Membrane currents are generated at nodes of Ranvier\",\n            \"Saltatory conduction of impulses is seen\",\n            \"Local anesthesia is effective only when the nerve is not covered by myelin sheath\"\n        ],\n        \"context\": null,\n        \"examples\": null\n    },\n    \"input_metadata\": {\n        \"explanation\": null,\n        \"subject_name\": \"Physiology\"\n    },\n    \"expected_output\": \"(A)\",\n    \"output\": \"(A)\",\n    \"output_metadata\": {\n        \"explanation\": \"Let’s solve this step-by-step, referring to authoritative sources as needed. Myelinated nerve fibers are covered by a myelin sheath, which allows for faster transmission of nerve impulses compared to non-myelinated fibers. This is due to the fact that the nerve impulse \\\"jumps\\\" from one node of Ranvier to the next, a process known as saltatory conduction. Local anesthesia can be effective on both myelinated and non-myelinated nerves. Therefore, the statement that impulse through myelinated fibers is slower than non-myelinated fibers is not true.\",\n        \"prompt\": \"Instructions: The following are multiple choice questions about medical knowledge. Solve them in a step-by-step fashion,\\nstarting by summarizing the available information. Output a single option from the given options as the final answer.\\nNone\\nQuestion: Maximum increase in prolactin level is caused by:\\n(A) Risperidone (B) Clozapine (C) Olanzapine (D) Aripiprazole\\nExplanation: Let’s solve this step-by-step, referring to authoritative sources as needed. Clozapine generally does not raise prolactin levels. Atypicals such as olanzapine and aripiprazole cause small if no elevation. Risperidone is known to result in a sustained elevated prolactin level. Therefore risperidone is likely to cause the maximum increase in prolactin level.\\nAnswer: (A)\\nNone\\nQuestion: What is the age of routine screening mammography?\\n(A) 20 years (B) 30 years (C) 40 years (D) 50 years\\nExplanation: Let’s solve this step-by-step, referring to authoritative sources as needed. The age of routine screening depends on the country you are interested in and varies widely. For the US, it is 40 years of age according to the American Cancer Society. In Europe, it is typically closer to 50 years. For a patient based in the US, the best answer is 40 years.\\nAnswer: (C)\\nNone\\nQuestion: A 65-year-old male complains of severe back pain and inability to move his left lower limb. Radiographic studies demonstrate the compression of nerve elements at the intervertebral foramen between vertebrae L5 and S1. Which structure is most likely responsible for this space-occupying lesion?\\n(A) Anulus fibrosus (B) Nucleus pulposus (C) Posterior longitudinal ligament (D) Anterior longitudinal ligament\\nExplanation: Let’s solve this step-by-step, referring to authoritative sources as needed. This man describes a herniated invertebral disk through a tear in the surrounding annulus fibrosus. The soft, gelatinous \\\"nucleus pulposus\\\" is forced out through a weakened part of the disk, resulting in back pain and nerve root irritation. In this case, the impingement is resulting in paralysis, and should be considered a medical emergency. Overall, the structure that is causing the compression and symptoms is the nucleus pulposus.\\nAnswer: (B)\\nNone\\nQuestion: Neuroendocrine cells in the lungs are:\\n(A) Dendritic cells (B) Type I pneumocytes (C) Type II pneumocytes (D) APUD cells\\nExplanation: Let’s solve this step-by-step, referring to authoritative sources as needed. Neuroendocrine cells, which are also known as Kultschitsky-type cells, Feyrter cells and APUD cells, are found in the basal layer of the surface epithelium and in the bronchial glands.\\nAnswer: (D)\\nNone\\nQuestion: Presence of it indicates remote contamination of water\\n(A) Streptococci (B) Staphalococci (C) Clastridium pertringes (D) Nibrio\\nExplanation: Let’s solve this step-by-step, referring to authoritative sources as needed. Because Clostridium perfringens spores are both specific to sewage contamination and environmentally stable, they are considered as possible conservative indicators of human fecal contamination and possible surrogates for environmentally stable pathogens.\\nAnswer: (C)\\n\\n\\nQuestion: Which of the following is not true for myelinated nerve fibers:\\n(A) Impulse through myelinated fibers is slower than non-myelinated fibers (B) Membrane currents are generated at nodes of Ranvier (C) Saltatory conduction of impulses is seen (D) Local anesthesia is effective only when the nerve is not covered by myelin sheath\\n\"\n    },\n    \"correct\": true\n}], failed_evaluations=[])"
     },
     "execution_count": 3,
     "metadata": {},
     "output_type": "execute_result"
    }
   ],
   "source": [
    "# Let's now run evaluation on 1 item\n",
    "evaluation = harness.run(k=1)\n",
    "print(\"Accuracy: \", evaluation.accuracy())\n",
    "evaluation"
   ],
   "metadata": {
    "collapsed": false,
    "ExecuteTime": {
     "end_time": "2023-10-10T21:28:22.577382Z",
     "start_time": "2023-10-10T21:28:10.695800Z"
    }
   }
  },
  {
   "cell_type": "markdown",
   "source": [
    "These results can then be visualised and explored, as done on [medplexity explorer](https://www.medplexityai.com/)."
   ],
   "metadata": {
    "collapsed": false
   }
  },
  {
   "cell_type": "markdown",
   "source": [
    "## Benchmarks\n",
    "Let's start by select the benchmark that we want to evaluate against. In this example we are going with the MedMCQA dataset, which is a collection of multiple-choice questions to address real-world medical entrance exam questions. You can see all available benchmarks mentioned in the [docs](https://medplexity.readthedocs.io/en/latest/)."
   ],
   "metadata": {
    "collapsed": false
   }
  },
  {
   "cell_type": "code",
   "execution_count": 4,
   "outputs": [],
   "source": [
    "from medplexity.benchmarks.medmcqa import MedMCQADatasetBuilder"
   ],
   "metadata": {
    "collapsed": false,
    "ExecuteTime": {
     "end_time": "2023-10-10T21:28:22.580945Z",
     "start_time": "2023-10-10T21:28:22.579529Z"
    }
   }
  },
  {
   "cell_type": "code",
   "execution_count": 5,
   "outputs": [],
   "source": [
    "medmcqa_dataset = MedMCQADatasetBuilder().build_dataset(split_type=\"validation\")"
   ],
   "metadata": {
    "collapsed": false,
    "ExecuteTime": {
     "start_time": "2023-10-10T21:28:22.582005Z"
    }
   }
  },
  {
   "cell_type": "code",
   "execution_count": 6,
   "outputs": [
    {
     "name": "stdout",
     "output_type": "stream",
     "text": [
      "Multiple-choice questions designed to address real-world medical entrance exam questions like AIIMS & NEET PG.\n",
      "    This dataset encompasses over 194k high-quality MCQs spanning 2.4k healthcare topics and 21 medical subjects. Questions are accompanied by an explanation of the correct answer.\n",
      "\n",
      "    Original paper: MedMCQA: A Large-scale Multi-Subject Multi-Choice Dataset for Medical domain Question Answering\n",
      "\n",
      "    2022 · Ankit Pal, Logesh Kumar Umapathi, Malaikannan Sankarasubbu\n",
      "    <https://arxiv.org/abs/2203.14371>\n",
      "\n",
      "    Train/validation/test splits available.\n",
      "\n",
      "    Dataset version used: <https://huggingface.co/datasets/medmcqa>\n",
      "    \n"
     ]
    }
   ],
   "source": [
    "print(medmcqa_dataset.description)"
   ],
   "metadata": {
    "collapsed": false
   }
  },
  {
   "cell_type": "markdown",
   "source": [
    "Note that for multiple choice-questions we have a formatting convention to use (A)/(B)/(C)/(D) formatting for giving options and their answer."
   ],
   "metadata": {
    "collapsed": false
   }
  },
  {
   "cell_type": "code",
   "execution_count": 7,
   "outputs": [
    {
     "data": {
      "text/plain": "{\n    \"input\": {\n        \"question\": \"Which of the following is not true about glomerular capillaries')\",\n        \"options\": [\n            \"The oncotic pressure of the fluid leaving the capillaries is less than that of fluid entering it\",\n            \"Glucose concentration in the capillaries is the same as that in glomerular filtrate\",\n            \"Constriction of afferent aeriole decreases the blood flow to the glomerulas\",\n            \"Hematocrit of the fluid leaving the capillaries is less than that of the fluid entering it\"\n        ],\n        \"context\": null,\n        \"examples\": null\n    },\n    \"expected_output\": \"(A)\",\n    \"metadata\": {\n        \"explanation\": \"Ans-a. The oncotic pressure of the fluid leaving the capillaries is less than that of fluid entering it Guyton I LpJ1 4-.;anong 23/e p653-6_)Glomerular oncotic pressure (due to plasma protein content) is higher than that of filtrate oncotic pressure in Bowman's capsule\\\"Since glucose is freely filtered and the fluid in the Bowman's capsule is isotonic with plasma, the concentration of glucose in the filtrate is the same as in the capillaries\",\n        \"subject_name\": \"Physiology\"\n    }\n}"
     },
     "execution_count": 7,
     "metadata": {},
     "output_type": "execute_result"
    }
   ],
   "source": [
    "# Example data point\n",
    "medmcqa_dataset[1]"
   ],
   "metadata": {
    "collapsed": false
   }
  },
  {
   "cell_type": "markdown",
   "source": [
    "## LLMs & Chains\n",
    "Now let's create the LLMs that we want to use for the evaluation. Medplexity provides a interfaces to common APIs, such as OpenAI API. If you don't have an API key for OpenAI yet, you can get one on [Open AI website](https://openai.com/api)."
   ],
   "metadata": {
    "collapsed": false
   }
  },
  {
   "cell_type": "code",
   "execution_count": 8,
   "outputs": [],
   "source": [
    "from medplexity.llms.openai_caller import OpenAI"
   ],
   "metadata": {
    "collapsed": false
   }
  },
  {
   "cell_type": "code",
   "execution_count": 9,
   "outputs": [],
   "source": [
    "openai_llm = OpenAI(\n",
    "    api_token=\"YOUR_TOKEN\"\n",
    ")"
   ],
   "metadata": {
    "collapsed": false
   }
  },
  {
   "cell_type": "markdown",
   "source": [
    "It's not enough to just have an LLM. We also need to find the right prompt to use, and then make sure that the output is in the correct format. For this reason, we use an abstraction of _Chain_. Chains are wrappers around complicated sequences of operations with LLMs at the core of it. If you are familiar with Langchain it's meant to be the same concept as the Chain there.\n",
    "\n",
    "For this specific benchmark we already have a prompt template that uses chain-of-thought prompting that we combine it with a few examples following the following answer format:\n",
    "```\n",
    "Explanation: ...\n",
    "Answer: ...\n",
    "```"
   ],
   "metadata": {
    "collapsed": false
   }
  },
  {
   "cell_type": "code",
   "execution_count": 10,
   "outputs": [],
   "source": [
    "from medplexity.prompts.multiple_choice_prompt import MultipleChoiceChainOfThoughtPrompt\n",
    "\n",
    "prompt_template = MultipleChoiceChainOfThoughtPrompt()"
   ],
   "metadata": {
    "collapsed": false
   }
  },
  {
   "cell_type": "code",
   "execution_count": 11,
   "outputs": [
    {
     "name": "stdout",
     "output_type": "stream",
     "text": [
      "Instructions: The following are multiple choice questions about medical knowledge. Solve them in a step-by-step fashion,\n",
      "starting by summarizing the available information. Output a single option from the given options as the final answer.\n",
      "{examples}\n",
      "\n",
      "{context}\n",
      "Question: {question}\n",
      "{options}\n",
      "\n"
     ]
    }
   ],
   "source": [
    "print(prompt_template.PROMPT)"
   ],
   "metadata": {
    "collapsed": false
   }
  },
  {
   "cell_type": "code",
   "execution_count": 12,
   "outputs": [
    {
     "name": "stdout",
     "output_type": "stream",
     "text": [
      "Instructions: The following are multiple choice questions about medical knowledge. Solve them in a step-by-step fashion,\n",
      "starting by summarizing the available information. Output a single option from the given options as the final answer.\n",
      "\n",
      "\n",
      "\n",
      "Question: A 29 yrs old woman with a pregnancy of 17 week has a 10 years old boy with down syndrome. She does not want another down syndrome kid; best advice to her is\n",
      "(A) No test is required now as her age is below 35 years (B) Ultra sound at this point of time will definitely tell her that next baby will be down syndromic or not (C) Amniotic fluid samples plus chromosomal analysis will definitely tell her that next baby will be down syndromic or not (D) blood screening at this point of time will clear the exact picture\n",
      "\n"
     ]
    }
   ],
   "source": [
    "example_datapoint = medmcqa_dataset[2]\n",
    "\n",
    "# If we fill in the blanks it would look as follows:\n",
    "print(prompt_template.format(\n",
    "    question=example_datapoint.input.question,\n",
    "    options=example_datapoint.input.options\n",
    "))"
   ],
   "metadata": {
    "collapsed": false
   }
  },
  {
   "cell_type": "markdown",
   "source": [
    "To prepare LLM for the evaluation we will need to transform the dataset inputs into the right prompt, then transform the output from LLM into the expected format for comparison, which is just a single option, e.g. \"(A)\"."
   ],
   "metadata": {
    "collapsed": false
   }
  },
  {
   "cell_type": "code",
   "execution_count": 13,
   "outputs": [],
   "source": [
    "from medplexity.chains.multiple_choice_question_chain import MultipleChoiceEvaluationChain\n",
    "\n",
    "chain = MultipleChoiceEvaluationChain(\n",
    "    llm=openai_llm,\n",
    "    save_prompt=True,\n",
    "    examples=load_example_questions_from_json(MedMCQADatasetBuilder.EXAMPLE_QUESTIONS_PATH)\n",
    ")"
   ],
   "metadata": {
    "collapsed": false
   }
  },
  {
   "cell_type": "markdown",
   "source": [
    "## Evaluation\n",
    "Evaluators accept your chain and then can run it on a given dataset. They will generate a report that you can later examine on level of individual predictions."
   ],
   "metadata": {
    "collapsed": false
   }
  },
  {
   "cell_type": "code",
   "execution_count": 14,
   "outputs": [],
   "source": [
    "from medplexity.evaluators.sequential_evaluator import SequentialEvaluator\n",
    "\n",
    "# Sequential evaluator just goes over the items in the dataset one by one. In the future we plan to also support parallel evaluation.\n",
    "evaluator = SequentialEvaluator()"
   ],
   "metadata": {
    "collapsed": false
   }
  },
  {
   "cell_type": "markdown",
   "source": [
    "Beware, that calling the cell below will actaully use your OpenAI credits to make predictions (which is why we call just on a small subset of the dataset)."
   ],
   "metadata": {
    "collapsed": false
   }
  },
  {
   "cell_type": "code",
   "execution_count": 15,
   "outputs": [
    {
     "name": "stderr",
     "output_type": "stream",
     "text": [
      "100%|██████████| 1/1 [00:03<00:00,  3.93s/it]\n"
     ]
    }
   ],
   "source": [
    "# BEWARE!: calling this will actually consume your OpenAI credits, that's why we run on a very small subset\n",
    "evaluation = evaluator.evaluate(medmcqa_dataset[:1], chain)"
   ],
   "metadata": {
    "collapsed": false
   }
  },
  {
   "cell_type": "code",
   "execution_count": 16,
   "outputs": [],
   "source": [
    "correct, incorrect = evaluation.partition_by_correctness()"
   ],
   "metadata": {
    "collapsed": false
   }
  },
  {
   "cell_type": "markdown",
   "source": [
    "Now we can also examine the results:"
   ],
   "metadata": {
    "collapsed": false
   }
  },
  {
   "cell_type": "code",
   "execution_count": 17,
   "outputs": [
    {
     "data": {
      "text/plain": "{\n    \"input\": {\n        \"question\": \"Which of the following is not true for myelinated nerve fibers:\",\n        \"options\": [\n            \"Impulse through myelinated fibers is slower than non-myelinated fibers\",\n            \"Membrane currents are generated at nodes of Ranvier\",\n            \"Saltatory conduction of impulses is seen\",\n            \"Local anesthesia is effective only when the nerve is not covered by myelin sheath\"\n        ],\n        \"context\": null,\n        \"examples\": null\n    },\n    \"input_metadata\": {\n        \"explanation\": null,\n        \"subject_name\": \"Physiology\"\n    },\n    \"expected_output\": \"(A)\",\n    \"output\": \"(A)\",\n    \"output_metadata\": {\n        \"explanation\": \"Let’s solve this step-by-step, referring to authoritative sources as needed. Myelinated nerve fibers have several characteristics. Impulses through myelinated fibers are actually faster than non-myelinated fibers because the myelin sheath acts as an insulator and allows for saltatory conduction. Membrane currents are generated at the nodes of Ranvier, which are the gaps in the myelin sheath. Local anesthesia is effective when the nerve is not covered by myelin sheath because it blocks the generation and conduction of nerve impulses. Therefore, the statement that is not true for myelinated nerve fibers is that impulse through myelinated fibers is slower than non-myelinated fibers.\",\n        \"prompt\": \"Instructions: The following are multiple choice questions about medical knowledge. Solve them in a step-by-step fashion,\\nstarting by summarizing the available information. Output a single option from the given options as the final answer.\\nNone\\nQuestion: Maximum increase in prolactin level is caused by:\\n(A) Risperidone (B) Clozapine (C) Olanzapine (D) Aripiprazole\\nExplanation: Let’s solve this step-by-step, referring to authoritative sources as needed. Clozapine generally does not raise prolactin levels. Atypicals such as olanzapine and aripiprazole cause small if no elevation. Risperidone is known to result in a sustained elevated prolactin level. Therefore risperidone is likely to cause the maximum increase in prolactin level.\\nAnswer: (A)\\nNone\\nQuestion: What is the age of routine screening mammography?\\n(A) 20 years (B) 30 years (C) 40 years (D) 50 years\\nExplanation: Let’s solve this step-by-step, referring to authoritative sources as needed. The age of routine screening depends on the country you are interested in and varies widely. For the US, it is 40 years of age according to the American Cancer Society. In Europe, it is typically closer to 50 years. For a patient based in the US, the best answer is 40 years.\\nAnswer: (C)\\nNone\\nQuestion: A 65-year-old male complains of severe back pain and inability to move his left lower limb. Radiographic studies demonstrate the compression of nerve elements at the intervertebral foramen between vertebrae L5 and S1. Which structure is most likely responsible for this space-occupying lesion?\\n(A) Anulus fibrosus (B) Nucleus pulposus (C) Posterior longitudinal ligament (D) Anterior longitudinal ligament\\nExplanation: Let’s solve this step-by-step, referring to authoritative sources as needed. This man describes a herniated invertebral disk through a tear in the surrounding annulus fibrosus. The soft, gelatinous \\\"nucleus pulposus\\\" is forced out through a weakened part of the disk, resulting in back pain and nerve root irritation. In this case, the impingement is resulting in paralysis, and should be considered a medical emergency. Overall, the structure that is causing the compression and symptoms is the nucleus pulposus.\\nAnswer: (B)\\nNone\\nQuestion: Neuroendocrine cells in the lungs are:\\n(A) Dendritic cells (B) Type I pneumocytes (C) Type II pneumocytes (D) APUD cells\\nExplanation: Let’s solve this step-by-step, referring to authoritative sources as needed. Neuroendocrine cells, which are also known as Kultschitsky-type cells, Feyrter cells and APUD cells, are found in the basal layer of the surface epithelium and in the bronchial glands.\\nAnswer: (D)\\nNone\\nQuestion: Presence of it indicates remote contamination of water\\n(A) Streptococci (B) Staphalococci (C) Clastridium pertringes (D) Nibrio\\nExplanation: Let’s solve this step-by-step, referring to authoritative sources as needed. Because Clostridium perfringens spores are both specific to sewage contamination and environmentally stable, they are considered as possible conservative indicators of human fecal contamination and possible surrogates for environmentally stable pathogens.\\nAnswer: (C)\\n\\n\\nQuestion: Which of the following is not true for myelinated nerve fibers:\\n(A) Impulse through myelinated fibers is slower than non-myelinated fibers (B) Membrane currents are generated at nodes of Ranvier (C) Saltatory conduction of impulses is seen (D) Local anesthesia is effective only when the nerve is not covered by myelin sheath\\n\"\n    },\n    \"correct\": true\n}"
     },
     "execution_count": 17,
     "metadata": {},
     "output_type": "execute_result"
    }
   ],
   "source": [
    "# Expected output was (B) and not (C)\n",
    "correct[0]"
   ],
   "metadata": {
    "collapsed": false
   }
  },
  {
   "cell_type": "markdown",
   "source": [
    "Finally, you can also save this in a file to later have a look at the results or visualise them."
   ],
   "metadata": {
    "collapsed": false
   }
  },
  {
   "cell_type": "code",
   "execution_count": 18,
   "outputs": [],
   "source": [
    "evaluation.save(\"medmcqa_validation_evaluation.json\")"
   ],
   "metadata": {
    "collapsed": false
   }
  },
  {
   "cell_type": "markdown",
   "source": [
    "You can learn more about the available benchmarks in our [docs](https://medplexity.readthedocs.io/en/latest/)."
   ],
   "metadata": {
    "collapsed": false
   }
  }
 ],
 "metadata": {
  "kernelspec": {
   "display_name": "Python 3",
   "language": "python",
   "name": "python3"
  },
  "language_info": {
   "codemirror_mode": {
    "name": "ipython",
    "version": 2
   },
   "file_extension": ".py",
   "mimetype": "text/x-python",
   "name": "python",
   "nbconvert_exporter": "python",
   "pygments_lexer": "ipython2",
   "version": "2.7.6"
  }
 },
 "nbformat": 4,
 "nbformat_minor": 0
}
